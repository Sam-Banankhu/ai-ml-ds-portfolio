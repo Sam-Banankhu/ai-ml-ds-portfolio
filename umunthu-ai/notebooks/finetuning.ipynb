{
 "cells": [
  {
   "cell_type": "code",
   "execution_count": 84,
   "id": "8608ca94-96cf-4e61-b250-e97f2f3bd76d",
   "metadata": {},
   "outputs": [],
   "source": [
    "import pandas as pd\n",
    "import random\n",
    "import openai"
   ]
  },
  {
   "cell_type": "code",
   "execution_count": 85,
   "id": "a5adfd6d-999c-42c5-af0b-98d4b06c0651",
   "metadata": {},
   "outputs": [],
   "source": [
    "df=pd.read_excel('umunthuqtns.xlsx')"
   ]
  },
  {
   "cell_type": "code",
   "execution_count": 86,
   "id": "611c2033-854c-4a16-a37f-e90fd7194654",
   "metadata": {},
   "outputs": [],
   "source": [
    "df.columns=['QUESTIONS','RESPONSES']"
   ]
  },
  {
   "cell_type": "code",
   "execution_count": 87,
   "id": "1972b47a-ce55-495e-af17-4e850b9abe00",
   "metadata": {
    "scrolled": true
   },
   "outputs": [
    {
     "data": {
      "text/html": [
       "<div>\n",
       "<style scoped>\n",
       "    .dataframe tbody tr th:only-of-type {\n",
       "        vertical-align: middle;\n",
       "    }\n",
       "\n",
       "    .dataframe tbody tr th {\n",
       "        vertical-align: top;\n",
       "    }\n",
       "\n",
       "    .dataframe thead th {\n",
       "        text-align: right;\n",
       "    }\n",
       "</style>\n",
       "<table border=\"1\" class=\"dataframe\">\n",
       "  <thead>\n",
       "    <tr style=\"text-align: right;\">\n",
       "      <th></th>\n",
       "      <th>QUESTIONS</th>\n",
       "      <th>RESPONSES</th>\n",
       "    </tr>\n",
       "  </thead>\n",
       "  <tbody>\n",
       "    <tr>\n",
       "      <th>0</th>\n",
       "      <td>1. Nichifukwa chiyani akagwilira alumangidwa a...</td>\n",
       "      <td>1. Amuna ni akazi onse amamangidwa malingana n...</td>\n",
       "    </tr>\n",
       "    <tr>\n",
       "      <th>1</th>\n",
       "      <td>2. ngati sakukwanisa ntchito amaudindo titani?</td>\n",
       "      <td>2. Anthu amachotsedwa ngati sakukwanitsa udind...</td>\n",
       "    </tr>\n",
       "    <tr>\n",
       "      <th>2</th>\n",
       "      <td>3. Ntchito zonse zili ni leave?</td>\n",
       "      <td>3. Malamulo amapereka ufulu wa leave kwa ogwir...</td>\n",
       "    </tr>\n",
       "    <tr>\n",
       "      <th>3</th>\n",
       "      <td>4. Banja likatha koma mkazi sanapange nawo con...</td>\n",
       "      <td>4. Malamulo amateteza nkazi ngakhale sanapange...</td>\n",
       "    </tr>\n",
       "    <tr>\n",
       "      <th>4</th>\n",
       "      <td>5. Wotiyimila samabwelesa chitukuko kumadera, ...</td>\n",
       "      <td>5. Nyumba ya Malamulo imayenera kuyimila anthu...</td>\n",
       "    </tr>\n",
       "    <tr>\n",
       "      <th>5</th>\n",
       "      <td>6. Nimafuna niziwe malamulo</td>\n",
       "      <td>6. Constitution ya Malawi imakamba za ufulu wa...</td>\n",
       "    </tr>\n",
       "    <tr>\n",
       "      <th>6</th>\n",
       "      <td>7. Musogoleri sabwelesa chitukuko kumuzi, titani</td>\n",
       "      <td>7. Anthu amatha kufunsa mafunso ku Nyumba ya M...</td>\n",
       "    </tr>\n",
       "    <tr>\n",
       "      <th>7</th>\n",
       "      <td>8.  atsikana sakupitiliza maphunziro chifukwa ...</td>\n",
       "      <td>8. Ana onse ayenera kumaliza sukulu, izi zili ...</td>\n",
       "    </tr>\n",
       "    <tr>\n",
       "      <th>8</th>\n",
       "      <td>9. Ufulu wa anthu achikulire</td>\n",
       "      <td>9. Anthu achikulire ali ni ufulu wa chitetezo,...</td>\n",
       "    </tr>\n",
       "    <tr>\n",
       "      <th>9</th>\n",
       "      <td>10. Funa kudziwa za ufulu wanga?</td>\n",
       "      <td>10. Ufulu wanu uli mu Constitution ya Malawi, ...</td>\n",
       "    </tr>\n",
       "  </tbody>\n",
       "</table>\n",
       "</div>"
      ],
      "text/plain": [
       "                                           QUESTIONS  \\\n",
       "0  1. Nichifukwa chiyani akagwilira alumangidwa a...   \n",
       "1   2. ngati sakukwanisa ntchito amaudindo titani?     \n",
       "2                   3. Ntchito zonse zili ni leave?    \n",
       "3  4. Banja likatha koma mkazi sanapange nawo con...   \n",
       "4  5. Wotiyimila samabwelesa chitukuko kumadera, ...   \n",
       "5                       6. Nimafuna niziwe malamulo    \n",
       "6  7. Musogoleri sabwelesa chitukuko kumuzi, titani    \n",
       "7  8.  atsikana sakupitiliza maphunziro chifukwa ...   \n",
       "8                      9. Ufulu wa anthu achikulire    \n",
       "9                 10. Funa kudziwa za ufulu wanga?     \n",
       "\n",
       "                                           RESPONSES  \n",
       "0  1. Amuna ni akazi onse amamangidwa malingana n...  \n",
       "1  2. Anthu amachotsedwa ngati sakukwanitsa udind...  \n",
       "2  3. Malamulo amapereka ufulu wa leave kwa ogwir...  \n",
       "3  4. Malamulo amateteza nkazi ngakhale sanapange...  \n",
       "4  5. Nyumba ya Malamulo imayenera kuyimila anthu...  \n",
       "5  6. Constitution ya Malawi imakamba za ufulu wa...  \n",
       "6  7. Anthu amatha kufunsa mafunso ku Nyumba ya M...  \n",
       "7  8. Ana onse ayenera kumaliza sukulu, izi zili ...  \n",
       "8  9. Anthu achikulire ali ni ufulu wa chitetezo,...  \n",
       "9  10. Ufulu wanu uli mu Constitution ya Malawi, ...  "
      ]
     },
     "execution_count": 87,
     "metadata": {},
     "output_type": "execute_result"
    }
   ],
   "source": [
    "df.head(10)"
   ]
  },
  {
   "cell_type": "code",
   "execution_count": 88,
   "id": "016a5a6d-c84b-429e-b3c0-e465b1e4268b",
   "metadata": {},
   "outputs": [
    {
     "data": {
      "text/plain": [
       "0     1. Nichifukwa chiyani akagwilira alumangidwa a...\n",
       "1      2. ngati sakukwanisa ntchito amaudindo titani?  \n",
       "2                      3. Ntchito zonse zili ni leave? \n",
       "3     4. Banja likatha koma mkazi sanapange nawo con...\n",
       "4     5. Wotiyimila samabwelesa chitukuko kumadera, ...\n",
       "                            ...                        \n",
       "57    58. Kodi malamulo amateteza bwanji miyambo ni ...\n",
       "58    59. Malamulo amat chani pa mikangano ya malo k...\n",
       "59    60. Malamulo amat chani kwa amai ni ana omwe a...\n",
       "60    61. Malamulo amati chani pamene boma lafuna ku...\n",
       "61       62. Ogwila ntchito mu boma ali ni ufulu wanji?\n",
       "Name: QUESTIONS, Length: 62, dtype: object"
      ]
     },
     "execution_count": 88,
     "metadata": {},
     "output_type": "execute_result"
    }
   ],
   "source": [
    "df['QUESTIONS']"
   ]
  },
  {
   "cell_type": "code",
   "execution_count": 89,
   "id": "5dd13ae7-78b4-4025-8629-bd71aeb010e5",
   "metadata": {},
   "outputs": [],
   "source": [
    "# df['responses'][0].split('. ')[1]"
   ]
  },
  {
   "cell_type": "code",
   "execution_count": 90,
   "id": "df7cfcaf-cfe2-408d-ae54-f8a5fc699e7c",
   "metadata": {},
   "outputs": [],
   "source": [
    "def remo_pre_umbers_change_to_lower_and_remove(sentence):\n",
    "    sentence=str(sentence)\n",
    "    if len(sentence.split('. '))>1:\n",
    "        sentence=sentence.split('. ')[1]\n",
    "    return sentence.replace('?','').lower()"
   ]
  },
  {
   "cell_type": "code",
   "execution_count": 91,
   "id": "b96bb7b5-60b4-47ef-8e56-8dba180a8d86",
   "metadata": {},
   "outputs": [],
   "source": [
    "df['QUESTIONS']=df['QUESTIONS'].apply(lambda x:remo_pre_umbers_change_to_lower_and_remove(x))"
   ]
  },
  {
   "cell_type": "code",
   "execution_count": 92,
   "id": "eda1e20d-8446-40d0-ab63-de3d3e4dce42",
   "metadata": {},
   "outputs": [
    {
     "data": {
      "text/html": [
       "<div>\n",
       "<style scoped>\n",
       "    .dataframe tbody tr th:only-of-type {\n",
       "        vertical-align: middle;\n",
       "    }\n",
       "\n",
       "    .dataframe tbody tr th {\n",
       "        vertical-align: top;\n",
       "    }\n",
       "\n",
       "    .dataframe thead th {\n",
       "        text-align: right;\n",
       "    }\n",
       "</style>\n",
       "<table border=\"1\" class=\"dataframe\">\n",
       "  <thead>\n",
       "    <tr style=\"text-align: right;\">\n",
       "      <th></th>\n",
       "      <th>QUESTIONS</th>\n",
       "      <th>RESPONSES</th>\n",
       "    </tr>\n",
       "  </thead>\n",
       "  <tbody>\n",
       "    <tr>\n",
       "      <th>0</th>\n",
       "      <td>nichifukwa chiyani akagwilira alumangidwa amun...</td>\n",
       "      <td>1. Amuna ni akazi onse amamangidwa malingana n...</td>\n",
       "    </tr>\n",
       "    <tr>\n",
       "      <th>1</th>\n",
       "      <td>ngati sakukwanisa ntchito amaudindo titani</td>\n",
       "      <td>2. Anthu amachotsedwa ngati sakukwanitsa udind...</td>\n",
       "    </tr>\n",
       "    <tr>\n",
       "      <th>2</th>\n",
       "      <td>ntchito zonse zili ni leave</td>\n",
       "      <td>3. Malamulo amapereka ufulu wa leave kwa ogwir...</td>\n",
       "    </tr>\n",
       "    <tr>\n",
       "      <th>3</th>\n",
       "      <td>banja likatha koma mkazi sanapange nawo contri...</td>\n",
       "      <td>4. Malamulo amateteza nkazi ngakhale sanapange...</td>\n",
       "    </tr>\n",
       "    <tr>\n",
       "      <th>4</th>\n",
       "      <td>wotiyimila samabwelesa chitukuko kumadera, mal...</td>\n",
       "      <td>5. Nyumba ya Malamulo imayenera kuyimila anthu...</td>\n",
       "    </tr>\n",
       "  </tbody>\n",
       "</table>\n",
       "</div>"
      ],
      "text/plain": [
       "                                           QUESTIONS  \\\n",
       "0  nichifukwa chiyani akagwilira alumangidwa amun...   \n",
       "1       ngati sakukwanisa ntchito amaudindo titani     \n",
       "2                       ntchito zonse zili ni leave    \n",
       "3  banja likatha koma mkazi sanapange nawo contri...   \n",
       "4  wotiyimila samabwelesa chitukuko kumadera, mal...   \n",
       "\n",
       "                                           RESPONSES  \n",
       "0  1. Amuna ni akazi onse amamangidwa malingana n...  \n",
       "1  2. Anthu amachotsedwa ngati sakukwanitsa udind...  \n",
       "2  3. Malamulo amapereka ufulu wa leave kwa ogwir...  \n",
       "3  4. Malamulo amateteza nkazi ngakhale sanapange...  \n",
       "4  5. Nyumba ya Malamulo imayenera kuyimila anthu...  "
      ]
     },
     "execution_count": 92,
     "metadata": {},
     "output_type": "execute_result"
    }
   ],
   "source": [
    "df.head()"
   ]
  },
  {
   "cell_type": "code",
   "execution_count": 93,
   "id": "78e344ce-b8b8-4c97-ba50-522a172d2738",
   "metadata": {},
   "outputs": [
    {
     "data": {
      "text/plain": [
       "QUESTIONS    0\n",
       "RESPONSES    1\n",
       "dtype: int64"
      ]
     },
     "execution_count": 93,
     "metadata": {},
     "output_type": "execute_result"
    }
   ],
   "source": [
    "df.isna().sum()"
   ]
  },
  {
   "cell_type": "code",
   "execution_count": 94,
   "id": "1b4e7007-c0ad-4f32-97d8-f6b0f2e6ab1a",
   "metadata": {},
   "outputs": [],
   "source": [
    "df=df.dropna()"
   ]
  },
  {
   "cell_type": "code",
   "execution_count": 95,
   "id": "58507637-5d53-4e9d-a41e-48910dcf38ca",
   "metadata": {},
   "outputs": [
    {
     "data": {
      "text/plain": [
       "QUESTIONS    0\n",
       "RESPONSES    0\n",
       "dtype: int64"
      ]
     },
     "execution_count": 95,
     "metadata": {},
     "output_type": "execute_result"
    }
   ],
   "source": [
    "df.isna().sum()"
   ]
  },
  {
   "cell_type": "code",
   "execution_count": 96,
   "id": "4d95d3e2-3fa7-463b-8230-a80716d886de",
   "metadata": {},
   "outputs": [],
   "source": [
    "all_conversations=[]"
   ]
  },
  {
   "cell_type": "code",
   "execution_count": 97,
   "id": "de86d249-3514-4152-908e-ec313affa9a8",
   "metadata": {},
   "outputs": [],
   "source": [
    "system_context='you are a helpful assistant that answers question from user from chichewa constitution of malawi in the form Chapter:<constitution_chapter>,Section:<costitution_section>, <answer_from_chichewa_constititution>'"
   ]
  },
  {
   "cell_type": "code",
   "execution_count": 98,
   "id": "2ebf55f1-2f4d-43e6-a27d-c6128219bd31",
   "metadata": {},
   "outputs": [],
   "source": [
    "import pandas as pd\n",
    "for index, row in df.iterrows():\n",
    "   all_conversations.append({\"messages\": [{\"role\": \"system\", \"content\": system_context}, {\"role\": \"user\", \"content\":row['QUESTIONS'] }, {\"role\": \"assistant\", \"content\": row['RESPONSES']}]})"
   ]
  },
  {
   "cell_type": "code",
   "execution_count": 99,
   "id": "8dcd9b83-e9a9-4a39-a093-c716cc37a2d2",
   "metadata": {},
   "outputs": [],
   "source": [
    "import json"
   ]
  },
  {
   "cell_type": "code",
   "execution_count": 100,
   "id": "a5758f83-e605-4e24-ba60-eeed16e9f08b",
   "metadata": {},
   "outputs": [
    {
     "data": {
      "text/plain": [
       "[{'messages': [{'role': 'system',\n",
       "    'content': 'you are a helpful assistant that answers question from user from chichewa constitution of malawi in the form Chapter:<constitution_chapter>,Section:<costitution_section>, <answer_from_chichewa_constititution>'},\n",
       "   {'role': 'user',\n",
       "    'content': 'nichifukwa chiyani akagwilira alumangidwa amuna wokha'},\n",
       "   {'role': 'assistant',\n",
       "    'content': '1. Amuna ni akazi onse amamangidwa malingana ni mlandu, kutengela ni Section 20, Chapter 4 cha Buku la Malamulo a Malawi, lomwe limaletsa kusankhana pa kugwiritsa ntchito malamulo, nipo onse ayenera kukhala ni mlandu ofanana.'}]},\n",
       " {'messages': [{'role': 'system',\n",
       "    'content': 'you are a helpful assistant that answers question from user from chichewa constitution of malawi in the form Chapter:<constitution_chapter>,Section:<costitution_section>, <answer_from_chichewa_constititution>'},\n",
       "   {'role': 'user', 'content': 'ngati sakukwanisa ntchito amaudindo titani  '},\n",
       "   {'role': 'assistant',\n",
       "    'content': \"2. Anthu amachotsedwa ngati sakukwanitsa udindo wawo, Section 198, Chapter 10 cha Constitution, chimafotokoza malamulo oti anthu ogwira ntchito m’boma kapena m'mabungwe azichotsedwa ngati sakuchita bwino kapena achita zachinyengo.\"}]},\n",
       " {'messages': [{'role': 'system',\n",
       "    'content': 'you are a helpful assistant that answers question from user from chichewa constitution of malawi in the form Chapter:<constitution_chapter>,Section:<costitution_section>, <answer_from_chichewa_constititution>'},\n",
       "   {'role': 'user', 'content': 'ntchito zonse zili ni leave '},\n",
       "   {'role': 'assistant',\n",
       "    'content': '3. Malamulo amapereka ufulu wa leave kwa ogwira ntchito onse, kutengela ni Section 31, Chapter 4 cha Constitution, limene limapereka ufulu wogwira ntchito kukhala ni maholide kapena leave monga Section la ufulu wa ntchito.'}]},\n",
       " {'messages': [{'role': 'system',\n",
       "    'content': 'you are a helpful assistant that answers question from user from chichewa constitution of malawi in the form Chapter:<constitution_chapter>,Section:<costitution_section>, <answer_from_chichewa_constititution>'},\n",
       "   {'role': 'user',\n",
       "    'content': 'banja likatha koma mkazi sanapange nawo contribute zinthu niwoyenela kutengako gawo laachuma '},\n",
       "   {'role': 'assistant',\n",
       "    'content': \"4. Malamulo amateteza nkazi ngakhale sanapange contribute, izi zili mu Section 24, Chapter 4 cha Constitution ya Malawi, lomwe limatsimikizira kuti nkazi ali ni ufulu m'banja ngakhale sanapereke gawo lake la ndalama, komanso akuyenera kulaniridwa mopanda tsankho.\"}]},\n",
       " {'messages': [{'role': 'system',\n",
       "    'content': 'you are a helpful assistant that answers question from user from chichewa constitution of malawi in the form Chapter:<constitution_chapter>,Section:<costitution_section>, <answer_from_chichewa_constititution>'},\n",
       "   {'role': 'user',\n",
       "    'content': 'wotiyimila samabwelesa chitukuko kumadera, malamulo amakamba chani '},\n",
       "   {'role': 'assistant',\n",
       "    'content': '5. Nyumba ya Malamulo imayenera kuyimila anthu bwino, kutengela ni ndondomeko za Chapter 6, Section 8, imene imayikira patsogolo kuyimilira mzika zonse mogwirizana ni zofuna zawo nikutsatira ulamuliro wa malamulo.'}]},\n",
       " {'messages': [{'role': 'system',\n",
       "    'content': 'you are a helpful assistant that answers question from user from chichewa constitution of malawi in the form Chapter:<constitution_chapter>,Section:<costitution_section>, <answer_from_chichewa_constititution>'},\n",
       "   {'role': 'user', 'content': 'nimafuna niziwe malamulo '},\n",
       "   {'role': 'assistant',\n",
       "    'content': '6. Constitution ya Malawi imakamba za ufulu wanu, mu Section 44, Chapter 4, mumanena kuti ufulu uliwonse womwe mzika ili nawo uyenera kutetezedwa ndpo suyenela kuikidwa pansi pa malamulo ena.'}]},\n",
       " {'messages': [{'role': 'system',\n",
       "    'content': 'you are a helpful assistant that answers question from user from chichewa constitution of malawi in the form Chapter:<constitution_chapter>,Section:<costitution_section>, <answer_from_chichewa_constititution>'},\n",
       "   {'role': 'user',\n",
       "    'content': 'musogoleri sabwelesa chitukuko kumuzi, titani '},\n",
       "   {'role': 'assistant',\n",
       "    'content': '7. Anthu amatha kufunsa mafunso ku Nyumba ya Malamulo, malinga ni Section 8, Chapter 6, imene imawona kuti mzika zonse zili ni ufulu wofunsa malamulo ni zofuna za boma kudzera mwa oyimilira awo.'}]},\n",
       " {'messages': [{'role': 'system',\n",
       "    'content': 'you are a helpful assistant that answers question from user from chichewa constitution of malawi in the form Chapter:<constitution_chapter>,Section:<costitution_section>, <answer_from_chichewa_constititution>'},\n",
       "   {'role': 'user',\n",
       "    'content': ' atsikana sakupitiliza maphunziro chifukwa chamabanja achangu '},\n",
       "   {'role': 'assistant',\n",
       "    'content': '8. Ana onse ayenera kumaliza sukulu, izi zili mu Section 13, Chapter 3 cha Constitution, komwe kumatchula kuti boma liyenera kupereka maphunziro kwa ana onse mpaka kukwaniritsa zofunikira zawo.'}]},\n",
       " {'messages': [{'role': 'system',\n",
       "    'content': 'you are a helpful assistant that answers question from user from chichewa constitution of malawi in the form Chapter:<constitution_chapter>,Section:<costitution_section>, <answer_from_chichewa_constititution>'},\n",
       "   {'role': 'user', 'content': 'ufulu wa anthu achikulire '},\n",
       "   {'role': 'assistant',\n",
       "    'content': '9. Anthu achikulire ali ni ufulu wa chitetezo, kutengela ni Section 13(b), Chapter 3, lomwe limatsinika kuti boma liyenera kusamalira anthu achikulire powapatsa chitetezo ni zothaniza pamoyo wawo.'}]},\n",
       " {'messages': [{'role': 'system',\n",
       "    'content': 'you are a helpful assistant that answers question from user from chichewa constitution of malawi in the form Chapter:<constitution_chapter>,Section:<costitution_section>, <answer_from_chichewa_constititution>'},\n",
       "   {'role': 'user', 'content': 'funa kudziwa za ufulu wanga  '},\n",
       "   {'role': 'assistant',\n",
       "    'content': '10. Ufulu wanu uli mu Constitution ya Malawi, malinga ni Section 44, Chapter 4, lomwe limatsimikizira kuti ufulu uliwonse womwe constitution imapereka uyenera kutetezedwa mogwirizana ni malamulo.'}]},\n",
       " {'messages': [{'role': 'system',\n",
       "    'content': 'you are a helpful assistant that answers question from user from chichewa constitution of malawi in the form Chapter:<constitution_chapter>,Section:<costitution_section>, <answer_from_chichewa_constititution>'},\n",
       "   {'role': 'user',\n",
       "    'content': 'chilango cha munthu wogwililira chinati chani '},\n",
       "   {'role': 'assistant',\n",
       "    'content': '11. Chilango cha munthu ogwilira ni zaka 14, kutengela ni Section 137, Chapter 15, lomwe limapereka malamulo okhwima pa milandu yokhudza kugwilira komanso kuphwanya ufulu wa ena.'}]},\n",
       " {'messages': [{'role': 'system',\n",
       "    'content': 'you are a helpful assistant that answers question from user from chichewa constitution of malawi in the form Chapter:<constitution_chapter>,Section:<costitution_section>, <answer_from_chichewa_constititution>'},\n",
       "   {'role': 'user',\n",
       "    'content': 'mafuna kudziwa dza ufulu wathu opanga ma demo '},\n",
       "   {'role': 'assistant',\n",
       "    'content': '12. Malamulo amalola ma demo mwa mtendere, malinga ni Section 38, Chapter 4 cha Constitution, lomwe limapereka ufulu wa anthu kusonkhana nikupanga ma demo popanda kuphwanya mtendere.'}]},\n",
       " {'messages': [{'role': 'system',\n",
       "    'content': 'you are a helpful assistant that answers question from user from chichewa constitution of malawi in the form Chapter:<constitution_chapter>,Section:<costitution_section>, <answer_from_chichewa_constititution>'},\n",
       "   {'role': 'user',\n",
       "    'content': 'malamulo amathaniza bwanji azimayi omwe achitidwa mkhamza kubanja '},\n",
       "   {'role': 'assistant',\n",
       "    'content': '13. Constitution imateteza azimayi ku nkhanza, izi zili mu Section 24, Chapter 4, lomwe limatsimikizira kuti akazi ali ni ufulu wofanana ni amuna nipo ayenera kutetezedwa ku nkhanza za m’banja.'}]},\n",
       " {'messages': [{'role': 'system',\n",
       "    'content': 'you are a helpful assistant that answers question from user from chichewa constitution of malawi in the form Chapter:<constitution_chapter>,Section:<costitution_section>, <answer_from_chichewa_constititution>'},\n",
       "   {'role': 'user',\n",
       "    'content': 'malamulo amati chani kwa amene tagulisidwa malo mobeledwa kapena mwachinyengo '},\n",
       "   {'role': 'assistant',\n",
       "    'content': '14. Malamulo amakulolani kudzafuna chilungamo ku khoti, kutengela ni Section 41, Chapter 4 cha Constitution, limene limatsimikizira kuti aliyense ali ni ufulu wopeza chilungamo kudzera m’khoti popanda ziletso.'}]},\n",
       " {'messages': [{'role': 'system',\n",
       "    'content': 'you are a helpful assistant that answers question from user from chichewa constitution of malawi in the form Chapter:<constitution_chapter>,Section:<costitution_section>, <answer_from_chichewa_constititution>'},\n",
       "   {'role': 'user',\n",
       "    'content': 'a city akutolela ndalama mmakomo tso ife chitukuko sitikuchiona, malamulo ato bwanji '},\n",
       "   {'role': 'assistant',\n",
       "    'content': '15. Ndondomeko za city council zili ni ulamuliro wa nyumba za malamulo, izi zikukhudzana ni Section 146, Chapter 14, komwe malamulo a nyumba za boma amasamalira ndondomeko za chitukuko kumidzi ni m’matauni.'}]},\n",
       " {'messages': [{'role': 'system',\n",
       "    'content': 'you are a helpful assistant that answers question from user from chichewa constitution of malawi in the form Chapter:<constitution_chapter>,Section:<costitution_section>, <answer_from_chichewa_constititution>'},\n",
       "   {'role': 'user', 'content': 'nimafuna kudziwa za malamulo a mdziko lino '},\n",
       "   {'role': 'assistant',\n",
       "    'content': '16. Constitution ni ndondomeko zazikulu za malamulo, izi zili mu Section 5, Chapter 1 cha Constitution, chomwe chimakhazikitsa Constitution ngati gwero lalikulu la malamulo a dziko.'}]},\n",
       " {'messages': [{'role': 'system',\n",
       "    'content': 'you are a helpful assistant that answers question from user from chichewa constitution of malawi in the form Chapter:<constitution_chapter>,Section:<costitution_section>, <answer_from_chichewa_constititution>'},\n",
       "   {'role': 'user',\n",
       "    'content': 'kodi ovlaza mzake pauchifwamba, naye ali ni ufulu wokhala ni moyo  '},\n",
       "   {'role': 'assistant',\n",
       "    'content': '17. Ali ni ufulu wokhala ni moyo ngakhale atakhala ni mulandu, malinga ni Section 16, Chapter 4 cha Constitution, lomwe limapereka ufulu wa moyo kwa aliyense osalola kugwidwa popanda chilungamo.'}]},\n",
       " {'messages': [{'role': 'system',\n",
       "    'content': 'you are a helpful assistant that answers question from user from chichewa constitution of malawi in the form Chapter:<constitution_chapter>,Section:<costitution_section>, <answer_from_chichewa_constititution>'},\n",
       "   {'role': 'user',\n",
       "    'content': 'ni udindo wanji omwe nili nawo ngati mzika ya malawi muno '},\n",
       "   {'role': 'assistant',\n",
       "    'content': '18. ninu ni udindo wotsatira malamulo ni kuteteza dziko, kutengela ni Section 44, Chapter 4 cha Constitution, lomwe limatchula udindo wa mzika kutsatira malamulo nikuchita zofuna za dziko.'}]},\n",
       " {'messages': [{'role': 'system',\n",
       "    'content': 'you are a helpful assistant that answers question from user from chichewa constitution of malawi in the form Chapter:<constitution_chapter>,Section:<costitution_section>, <answer_from_chichewa_constititution>'},\n",
       "   {'role': 'user',\n",
       "    'content': 'kodi tingakadandaule kuti ngati a mp athu sakupanga zomwe adalonjeza '},\n",
       "   {'role': 'assistant',\n",
       "    'content': '19. Mungadandaule ku Nyumba ya Malamulo kapena mabungwe ena a boma, izi zili mu Section 8, Chapter 6 cha Constitution, limene limapereka njira zomveka za kukonzekera ndondomeko ni kupereka madandaulo.'}]},\n",
       " {'messages': [{'role': 'system',\n",
       "    'content': 'you are a helpful assistant that answers question from user from chichewa constitution of malawi in the form Chapter:<constitution_chapter>,Section:<costitution_section>, <answer_from_chichewa_constititution>'},\n",
       "   {'role': 'user',\n",
       "    'content': 'kodi malamulo a mziko lino amati chani pamkhani yachipembezo '},\n",
       "   {'role': 'assistant',\n",
       "    'content': '20. Ufulu wolambira chipembedzo uli ni chitetezo, kutengela ni Section 33, Chapter 4 cha Constitution, lomwe limapereka ufulu wa munthu aliyense kusankha chipembedzo komanso kulambiramo momasuka.'}]},\n",
       " {'messages': [{'role': 'system',\n",
       "    'content': 'you are a helpful assistant that answers question from user from chichewa constitution of malawi in the form Chapter:<constitution_chapter>,Section:<costitution_section>, <answer_from_chichewa_constititution>'},\n",
       "   {'role': 'user',\n",
       "    'content': 'anthu opanga mademo ali ni udindo wanji ngati mzika za malawi muno '},\n",
       "   {'role': 'assistant',\n",
       "    'content': '21. Ali ni udindo wopanga ma demo mwamtendere, izi zili mu Section 38, Chapter 4 cha Constitution, komwe kulola kusonkhana mwamtendere.'}]},\n",
       " {'messages': [{'role': 'system',\n",
       "    'content': 'you are a helpful assistant that answers question from user from chichewa constitution of malawi in the form Chapter:<constitution_chapter>,Section:<costitution_section>, <answer_from_chichewa_constititution>'},\n",
       "   {'role': 'user',\n",
       "    'content': 'mwana akalakwisa tisamumenye malingana ni malamulo '},\n",
       "   {'role': 'assistant',\n",
       "    'content': '22. Malamulo samalola kumenya ana, izi zili mu Section 23, Chapter 4 cha Constitution, lomwe limateteza ana ku nkhanza, kuphatikizapo kuwalanga mwankhanza.'}]},\n",
       " {'messages': [{'role': 'system',\n",
       "    'content': 'you are a helpful assistant that answers question from user from chichewa constitution of malawi in the form Chapter:<constitution_chapter>,Section:<costitution_section>, <answer_from_chichewa_constititution>'},\n",
       "   {'role': 'user',\n",
       "    'content': 'malamulo omasiyana akumuz ni ntauni, nanga bwanji kumuzi kulibe chitukuko  '},\n",
       "   {'role': 'assistant',\n",
       "    'content': '23. Malamulo ni ofanana, chitukuko chili pa ndondomeko za boma, malinga ni Section 199, Chapter 10 cha Constitution, lomwe limayang’anira mabungwe a boma kuti azigwira ntchito mogwirizana ni zofuna za anthu.'}]},\n",
       " {'messages': [{'role': 'system',\n",
       "    'content': 'you are a helpful assistant that answers question from user from chichewa constitution of malawi in the form Chapter:<constitution_chapter>,Section:<costitution_section>, <answer_from_chichewa_constititution>'},\n",
       "   {'role': 'user',\n",
       "    'content': 'malamulo amene amasogolera zilanilaa zinthu, ngati makoponi '},\n",
       "   {'role': 'assistant',\n",
       "    'content': '24. Constitution imayang’anira chilungamo pakatundu wa anthu, izi zili mu Section 24, Chapter 4, lomwe limapereka chitetezo cha katundu wa akazi ni ana popanda kutsutsidwa.'}]},\n",
       " {'messages': [{'role': 'system',\n",
       "    'content': 'you are a helpful assistant that answers question from user from chichewa constitution of malawi in the form Chapter:<constitution_chapter>,Section:<costitution_section>, <answer_from_chichewa_constititution>'},\n",
       "   {'role': 'user', 'content': 'ufulu wa anthu wolumala uti bwa '},\n",
       "   {'role': 'assistant',\n",
       "    'content': '25. Anthu olumala ali ni ufulu wa chitetezo ni kuthanizidwa, kutengela ni Section 13(g), Chapter 3 cha Constitution, lomwe limafotokoza kuti anthu olumala ayenera kukhala ni chitetezo ni kulaniridwa ngati anzawo.'}]},\n",
       " {'messages': [{'role': 'system',\n",
       "    'content': 'you are a helpful assistant that answers question from user from chichewa constitution of malawi in the form Chapter:<constitution_chapter>,Section:<costitution_section>, <answer_from_chichewa_constititution>'},\n",
       "   {'role': 'user', 'content': 'asing’anga kulanda zithumwa, mkulakwa '},\n",
       "   {'role': 'assistant',\n",
       "    'content': '27. Kulanda zinthu popanda chilolezo nikulakwa, malinga ni Section 28, Chapter 4 cha Constitution, lomwe limateteza ufulu wa katundu, nikunena kuti zinthu za munthu siziyenera kutengedwa popanda chilungamo kapena chilolezo.'}]},\n",
       " {'messages': [{'role': 'system',\n",
       "    'content': 'you are a helpful assistant that answers question from user from chichewa constitution of malawi in the form Chapter:<constitution_chapter>,Section:<costitution_section>, <answer_from_chichewa_constititution>'},\n",
       "   {'role': 'user', 'content': 'malamulo oteteza katundu wa ana amasye   '},\n",
       "   {'role': 'assistant',\n",
       "    'content': '28. Constitution imateteza katundu wa ana, izi zili mu Section 23, Chapter 4, lomwe limapereka chitetezo kwa ana ku nkhanza komanso chitetezo pa katundu wawo.'}]},\n",
       " {'messages': [{'role': 'system',\n",
       "    'content': 'you are a helpful assistant that answers question from user from chichewa constitution of malawi in the form Chapter:<constitution_chapter>,Section:<costitution_section>, <answer_from_chichewa_constititution>'},\n",
       "   {'role': 'user', 'content': 'malamulo oteteza kuti mabanja asamathe '},\n",
       "   {'role': 'assistant',\n",
       "    'content': \"29. Constitution imalimbikitsa kuti mabanja athetse mikangano mwamtendere, kutengela ni Section 22, Chapter 4 cha Constitution, lomwe limatsimikizira kuti boma liyenera kulimbikitsa kuthetsa mikangano m'banja mwa mtendere.\"}]},\n",
       " {'messages': [{'role': 'system',\n",
       "    'content': 'you are a helpful assistant that answers question from user from chichewa constitution of malawi in the form Chapter:<constitution_chapter>,Section:<costitution_section>, <answer_from_chichewa_constititution>'},\n",
       "   {'role': 'user', 'content': 'ana achichepele ali ni ufulu wanji '},\n",
       "   {'role': 'assistant',\n",
       "    'content': '30. Ali ni ufulu wa maphunziro ni chitetezo, malinga ni Section 23, Chapter 4 cha Constitution, lomwe limatsimikizira kuti ana onse ali ni ufulu wophunzira ni kutetezedwa ku nkhanza kapena kusasamala.'}]},\n",
       " {'messages': [{'role': 'system',\n",
       "    'content': 'you are a helpful assistant that answers question from user from chichewa constitution of malawi in the form Chapter:<constitution_chapter>,Section:<costitution_section>, <answer_from_chichewa_constititution>'},\n",
       "   {'role': 'user',\n",
       "    'content': 'kodi ni udindo wa ndani kuonetsetsa kuti anthu sakuphwanya malamulo '},\n",
       "   {'role': 'assistant',\n",
       "    'content': '31. Udindo uli pa boma ni apolisi, kutengela ni Section 13, Chapter 3 cha Constitution, lomwe limapereka udindo wa boma kupereka chitetezo kwa mzika zonse kudzera mwa apolisi ni mabungwe ena a chitetezo.'}]},\n",
       " {'messages': [{'role': 'system',\n",
       "    'content': 'you are a helpful assistant that answers question from user from chichewa constitution of malawi in the form Chapter:<constitution_chapter>,Section:<costitution_section>, <answer_from_chichewa_constititution>'},\n",
       "   {'role': 'user',\n",
       "    'content': 'munyumba ya malamulo muti chani pakusamalira anthu okalamba '},\n",
       "   {'role': 'assistant',\n",
       "    'content': '32. Constitution imateteza anthu okalamba, izi zili mu Section 13(b), Chapter 3, komwe malamulo amatsimikizira kuti anthu okalamba ayenera kutetezedwa ni kuthanizidwa.'}]},\n",
       " {'messages': [{'role': 'system',\n",
       "    'content': 'you are a helpful assistant that answers question from user from chichewa constitution of malawi in the form Chapter:<constitution_chapter>,Section:<costitution_section>, <answer_from_chichewa_constititution>'},\n",
       "   {'role': 'user',\n",
       "    'content': 'ni milandu yanji ili yosaenera kufika ku khoti '},\n",
       "   {'role': 'assistant',\n",
       "    'content': \"33. Milandu yaying'ono ingathe kuthetsedwa mwa mgwirizano, izi zili mu Section 133, Chapter 9 cha Constitution, komwe malamulo amalola kuti milandu yaying'ono imalizidwe mwamsanga popanda kuiponyera ku khoti.\"}]},\n",
       " {'messages': [{'role': 'system',\n",
       "    'content': 'you are a helpful assistant that answers question from user from chichewa constitution of malawi in the form Chapter:<constitution_chapter>,Section:<costitution_section>, <answer_from_chichewa_constititution>'},\n",
       "   {'role': 'user',\n",
       "    'content': 'kodi amfumu ammudzi ali ni mphanvu yanji yosova milandu mmudzi'},\n",
       "   {'role': 'assistant',\n",
       "    'content': \"34. Amfumu amakhala ni udindo wowona milandu yaying'ono, malinga ni Section 110(3), Chapter 9, lomwe limapereka mphamvu kwa amfumu kuti azitha kuweruza milandu yaying'ono komwe kumadera awo.\"}]},\n",
       " {'messages': [{'role': 'system',\n",
       "    'content': 'you are a helpful assistant that answers question from user from chichewa constitution of malawi in the form Chapter:<constitution_chapter>,Section:<costitution_section>, <answer_from_chichewa_constititution>'},\n",
       "   {'role': 'user',\n",
       "    'content': 'kodi amai apakhomo ali ni ufulu otsutsa ndemanga ya amuna awo ngati sanasangalale nayo'},\n",
       "   {'role': 'assistant',\n",
       "    'content': '35. Amayi ali ni ufulu wodandaula nikufuna chilungamo, izi zili mu Section 24, Chapter 4 cha Constitution, lomwe limapereka ufulu kwa akazi kuti akhale ni mau nipo afufuze chilungamo ngati sanasangalale ni zimene amuna awo achita.'}]},\n",
       " {'messages': [{'role': 'system',\n",
       "    'content': 'you are a helpful assistant that answers question from user from chichewa constitution of malawi in the form Chapter:<constitution_chapter>,Section:<costitution_section>, <answer_from_chichewa_constititution>'},\n",
       "   {'role': 'user', 'content': 'munthu wokuba mbuzi chilango chake ni chani '},\n",
       "   {'role': 'assistant',\n",
       "    'content': \"36. Chilango chimaonekeratu ni khoti, koma nthawi zambiri zimakhala m'ndende, malinga ni malamulo a Section 137 cha Chapter 15 cha Constitution chomwe chimakhazikitsa milandu ni malamulo a chiwawa, kuphatikizapo kuba.\"}]},\n",
       " {'messages': [{'role': 'system',\n",
       "    'content': 'you are a helpful assistant that answers question from user from chichewa constitution of malawi in the form Chapter:<constitution_chapter>,Section:<costitution_section>, <answer_from_chichewa_constititution>'},\n",
       "   {'role': 'user',\n",
       "    'content': 'kumenya munthu wogwidwa pomwe amavlaza ena nikulakwisa'},\n",
       "   {'role': 'assistant',\n",
       "    'content': '37. Kumenya munthu sikuloledwa ni malamulo, izi zikutsimikizidwa ni Section 19, Chapter 4, chomwe chimateteza aliyense ku nkhanza ni kupezeka pachiwawa popanda chilungamo.'}]},\n",
       " {'messages': [{'role': 'system',\n",
       "    'content': 'you are a helpful assistant that answers question from user from chichewa constitution of malawi in the form Chapter:<constitution_chapter>,Section:<costitution_section>, <answer_from_chichewa_constititution>'},\n",
       "   {'role': 'user',\n",
       "    'content': 'kodi amai ni ana ali ni ufulu wanji malingana ni buku la malamulo  '},\n",
       "   {'role': 'assistant',\n",
       "    'content': '38. Ali ni ufulu wofanana ni chitetezo, kutengela ni Section 20, Chapter 4, lomwe limapereka chitetezo chofanana kwa aliyense popanda tsankho pazifukwa zilizonse.'}]},\n",
       " {'messages': [{'role': 'system',\n",
       "    'content': 'you are a helpful assistant that answers question from user from chichewa constitution of malawi in the form Chapter:<constitution_chapter>,Section:<costitution_section>, <answer_from_chichewa_constititution>'},\n",
       "   {'role': 'user',\n",
       "    'content': 'kodi malamulo amati bwanji pa nkhani ya ufulu wolankhula zakukhosi '},\n",
       "   {'role': 'assistant',\n",
       "    'content': '39. Constitution imapereka ufulu wolankhula, izi zili mu Section 35, Chapter 4, lomwe limapereka ufulu kwa mzika zonsedi kulankhula zakukhosi kwawo popanda choletsa.'}]},\n",
       " {'messages': [{'role': 'system',\n",
       "    'content': 'you are a helpful assistant that answers question from user from chichewa constitution of malawi in the form Chapter:<constitution_chapter>,Section:<costitution_section>, <answer_from_chichewa_constititution>'},\n",
       "   {'role': 'user',\n",
       "    'content': 'ndani ali ololedwa kukhala mzika ya dziko lina  '},\n",
       "   {'role': 'assistant',\n",
       "    'content': '40. Constitution imapereka malamulo okhazikitsa umzika, kutengela ni Section 47, Chapter 4, lomwe limatchula kuti mzika ya Malawi imapatsidwa ni ndondomeko za boma, poganizira mabwana kapena zibwana.'}]},\n",
       " {'messages': [{'role': 'system',\n",
       "    'content': 'you are a helpful assistant that answers question from user from chichewa constitution of malawi in the form Chapter:<constitution_chapter>,Section:<costitution_section>, <answer_from_chichewa_constititution>'},\n",
       "   {'role': 'user',\n",
       "    'content': 'anthu obwela angathe kukhala mzika ya malawi muno  '},\n",
       "   {'role': 'assistant',\n",
       "    'content': '41. Inde, atatsatira malamulo a umzika, kutengela ni Section 47, Chapter 4, komwe Constitution imapereka njira zowonekera zopezera umzika kwa anthu obwera.'}]},\n",
       " {'messages': [{'role': 'system',\n",
       "    'content': 'you are a helpful assistant that answers question from user from chichewa constitution of malawi in the form Chapter:<constitution_chapter>,Section:<costitution_section>, <answer_from_chichewa_constititution>'},\n",
       "   {'role': 'user',\n",
       "    'content': 'ma membala a paliyamenti amasankhidwa kutsata ndondomeko yanji '},\n",
       "   {'role': 'assistant',\n",
       "    'content': '42. Amasankhidwa kudzera mu chisankho cha poyera, izi zili mu Section 67, Chapter 6 cha Constitution, lomwe limanena kuti a paliyamenti amasankhidwa mogwirizana ni chisankho choyenera komanso chisankho chopanda tsankho.'}]},\n",
       " {'messages': [{'role': 'system',\n",
       "    'content': 'you are a helpful assistant that answers question from user from chichewa constitution of malawi in the form Chapter:<constitution_chapter>,Section:<costitution_section>, <answer_from_chichewa_constititution>'},\n",
       "   {'role': 'user', 'content': 'ndani ali oyenera ku vota pa zisankho '},\n",
       "   {'role': 'assistant',\n",
       "    'content': '43. Aliyense wazaka 18 ni kupitilira, kutengela ni Section 77(2), Chapter 6, limene limapereka ufulu kwa aliyense wa zaka 18 ni kupitilira kuti akhale ni mwayi wovota mu chisankho chilichonse'}]},\n",
       " {'messages': [{'role': 'system',\n",
       "    'content': 'you are a helpful assistant that answers question from user from chichewa constitution of malawi in the form Chapter:<constitution_chapter>,Section:<costitution_section>, <answer_from_chichewa_constititution>'},\n",
       "   {'role': 'user', 'content': 'munthu womangidwa ali ni ufulu wanji '},\n",
       "   {'role': 'assistant',\n",
       "    'content': '44. Ali ni ufulu wa chitetezo ni chilungamo, malinga ni Section 41, Chapter 4 cha Constitution, lomwe limapereka ufulu wopeza chilungamo popanda tsankho kapena ziletso.'}]},\n",
       " {'messages': [{'role': 'system',\n",
       "    'content': 'you are a helpful assistant that answers question from user from chichewa constitution of malawi in the form Chapter:<constitution_chapter>,Section:<costitution_section>, <answer_from_chichewa_constititution>'},\n",
       "   {'role': 'user',\n",
       "    'content': 'kodi bukhu la malamulo liti chiyani za chiyankhulo mmalawi muno '},\n",
       "   {'role': 'assistant',\n",
       "    'content': '45. Limazinikira chiyankhulo chachikulu ngati Chichewa ni Chingerezi, izi zili mu Section 51, Chapter 6, lomwe limafotokoza kuti Chichewa ni Chingerezi ni zilankhulo zovomerezeka zotsogolera boma la Malawi'}]},\n",
       " {'messages': [{'role': 'system',\n",
       "    'content': 'you are a helpful assistant that answers question from user from chichewa constitution of malawi in the form Chapter:<constitution_chapter>,Section:<costitution_section>, <answer_from_chichewa_constititution>'},\n",
       "   {'role': 'user',\n",
       "    'content': 'njira yolembetsa umzika mziko lino ni yotani  '},\n",
       "   {'role': 'assistant',\n",
       "    'content': '46. Munthu ayenera kutsatira ndondomeko za boma, izi zili mu Section 47, Chapter 4 cha Constitution, komwe malamulo amakonzera ndondomeko za kugwira ntchito ya umzika komanso kukhala mzika za dziko'}]},\n",
       " {'messages': [{'role': 'system',\n",
       "    'content': 'you are a helpful assistant that answers question from user from chichewa constitution of malawi in the form Chapter:<constitution_chapter>,Section:<costitution_section>, <answer_from_chichewa_constititution>'},\n",
       "   {'role': 'user',\n",
       "    'content': 'buku la malamulo liti chani pa ufulu wokhala ni moyo  '},\n",
       "   {'role': 'assistant',\n",
       "    'content': '47. Ufulu wokhala ni moyo uli ni chitetezo cha malamulo, kutengela ni Section 16, Chapter 4 cha Constitution, komwe kulambira moyo wa munthu ni chitetezo chopanda malire'}]},\n",
       " {'messages': [{'role': 'system',\n",
       "    'content': 'you are a helpful assistant that answers question from user from chichewa constitution of malawi in the form Chapter:<constitution_chapter>,Section:<costitution_section>, <answer_from_chichewa_constititution>'},\n",
       "   {'role': 'user', 'content': 'kodi malamulo amateteza bwanji ufulu wa ana '},\n",
       "   {'role': 'assistant',\n",
       "    'content': '48. Malamulo amateteza ana ku nkhanza ni kupereka maphunziro, malinga ni Section 23, Chapter 4 cha Constitution, lomwe limatsimikizira kuti ana ayenera kulaniridwa popanda kugwidwa ni nkhanza komanso kupatsidwa maphunziro oyenera'}]},\n",
       " {'messages': [{'role': 'system',\n",
       "    'content': 'you are a helpful assistant that answers question from user from chichewa constitution of malawi in the form Chapter:<constitution_chapter>,Section:<costitution_section>, <answer_from_chichewa_constititution>'},\n",
       "   {'role': 'user', 'content': 'nanga anthu aulumali ali ni ufulu wanji  '},\n",
       "   {'role': 'assistant',\n",
       "    'content': '49. Ali ni ufulu wa chitetezo ni zofuna zofananira, izi zili mu Section 23, Chapter 4 cha Constitution, komwe ana olumala akuyenera kutetezedwa ni kuthanizidwa kuti akhale ni moyo wabwino ngati anzawo'}]},\n",
       " {'messages': [{'role': 'system',\n",
       "    'content': 'you are a helpful assistant that answers question from user from chichewa constitution of malawi in the form Chapter:<constitution_chapter>,Section:<costitution_section>, <answer_from_chichewa_constititution>'},\n",
       "   {'role': 'user', 'content': 'nanga ana achichepele ali ni ufulu wanji '},\n",
       "   {'role': 'assistant',\n",
       "    'content': '50. Ali ni ufulu wa maphunziro ni kusamaliridwa, izi zili mu Section 13, Chapter 3 cha Constitution, komwe ana ni anthu onse ali ni ufulu wa maphunziro komanso chitetezo cha thupi ni malingaliro.'}]},\n",
       " {'messages': [{'role': 'system',\n",
       "    'content': 'you are a helpful assistant that answers question from user from chichewa constitution of malawi in the form Chapter:<constitution_chapter>,Section:<costitution_section>, <answer_from_chichewa_constititution>'},\n",
       "   {'role': 'user',\n",
       "    'content': 'ni zoyenera zanji zomwe zimapangitsa munthu kukhala mtsogoleri wa dziko'},\n",
       "   {'role': 'assistant',\n",
       "    'content': '51. Munthu ayenera kukhala ni zaka 35 ni kukhala mzika, kutengela ni Section 80, Chapter 8 cha Constitution, lomwe limapereka zofunikira kuti munthu akhale mtsogoleri wa dziko.'}]},\n",
       " {'messages': [{'role': 'system',\n",
       "    'content': 'you are a helpful assistant that answers question from user from chichewa constitution of malawi in the form Chapter:<constitution_chapter>,Section:<costitution_section>, <answer_from_chichewa_constititution>'},\n",
       "   {'role': 'user',\n",
       "    'content': 'nanga mtsogoleri wa dziko amayenera kulamulira kwa nthawi yochuluka bwanji  '},\n",
       "   {'role': 'assistant',\n",
       "    'content': \"52. Amalonda kwa zaka zisanu, malinga ni Section 83, Chapter 8, mtsogoleri wa dziko amasankhidwa kukhala m'malo kwa nthawi ya zaka zisanu nipo amatha kuyimanso kamodzi kokha.\"}]},\n",
       " {'messages': [{'role': 'system',\n",
       "    'content': 'you are a helpful assistant that answers question from user from chichewa constitution of malawi in the form Chapter:<constitution_chapter>,Section:<costitution_section>, <answer_from_chichewa_constititution>'},\n",
       "   {'role': 'user',\n",
       "    'content': 'mtsogoleri wa dziko ali ni udindo wanji kwa mzika  '},\n",
       "   {'role': 'assistant',\n",
       "    'content': '53. Ali ni udindo woteteza ni kutsogolera dziko, kutengela ni Section 88, Chapter 8 cha Constitution, lomwe limapereka kuti mtsogoleri wa dziko ali ni udindo wokhazikitsa malamulo nikutsogolera chitukuko cha dziko.'}]},\n",
       " {'messages': [{'role': 'system',\n",
       "    'content': 'you are a helpful assistant that answers question from user from chichewa constitution of malawi in the form Chapter:<constitution_chapter>,Section:<costitution_section>, <answer_from_chichewa_constititution>'},\n",
       "   {'role': 'user',\n",
       "    'content': 'munthu ayenera kukhala ni zololedwa za+a27nji kupezeka mu nyumba ya aphungu '},\n",
       "   {'role': 'assistant',\n",
       "    'content': '54. Ayenera kukhala wazaka 18 ni kupitilira, kutengela ni Section 77, Chapter 6 cha Constitution, lomwe limapereka ufulu wa mzika zonse zopitilira zaka 18 kuti azikhala ni mwayi wovota.'}]},\n",
       " {'messages': [{'role': 'system',\n",
       "    'content': 'you are a helpful assistant that answers question from user from chichewa constitution of malawi in the form Chapter:<constitution_chapter>,Section:<costitution_section>, <answer_from_chichewa_constititution>'},\n",
       "   {'role': 'user',\n",
       "    'content': 'buku la malamulo liti chani pa chitetezo cha dziko  '},\n",
       "   {'role': 'assistant',\n",
       "    'content': '55. Constitution imateteza chitetezo cha dziko lonse, malinga ni Section 146, Chapter 14 cha Constitution, lomwe limayang’anira chitetezo ni kulondera chitukuko cha dziko.'}]},\n",
       " {'messages': [{'role': 'system',\n",
       "    'content': 'you are a helpful assistant that answers question from user from chichewa constitution of malawi in the form Chapter:<constitution_chapter>,Section:<costitution_section>, <answer_from_chichewa_constititution>'},\n",
       "   {'role': 'user',\n",
       "    'content': 'kodi malamulo amateteza bwanji ufulu wanga ngati ndatengedwa mlandu popanda chifukwa  '},\n",
       "   {'role': 'assistant',\n",
       "    'content': '56. Constitution imateteza ufulu wa kulaniridwa mwachilungamo, izi zili mu Section 42, Chapter 4, komwe Constitution imatsimikizira kuti aliyense ayenera kuchitiridwa chilungamo m’milandu yake.'}]},\n",
       " {'messages': [{'role': 'system',\n",
       "    'content': 'you are a helpful assistant that answers question from user from chichewa constitution of malawi in the form Chapter:<constitution_chapter>,Section:<costitution_section>, <answer_from_chichewa_constititution>'},\n",
       "   {'role': 'user',\n",
       "    'content': 'kodi ana anga akhoza kupeza maphunziro aulere malinga ni malamulo  '},\n",
       "   {'role': 'assistant',\n",
       "    'content': '57. Inde, ana ayenera kupeza maphunziro aulere, malinga ni Section 25, Chapter 4 cha Constitution, lomwe limatsimikizira kuti ana ali ni ufulu wophunzira nipo boma liyenera kupereka maphunziro.'}]},\n",
       " {'messages': [{'role': 'system',\n",
       "    'content': 'you are a helpful assistant that answers question from user from chichewa constitution of malawi in the form Chapter:<constitution_chapter>,Section:<costitution_section>, <answer_from_chichewa_constititution>'},\n",
       "   {'role': 'user',\n",
       "    'content': 'kodi malamulo amateteza bwanji miyambo ni zikhalidwe zathu zaku malawi  '},\n",
       "   {'role': 'assistant',\n",
       "    'content': '58. Constitution imalemekeza miyambo ya anthu, izi zili mu Section 26, Chapter 4 cha Constitution, lomwe limapereka ufulu kwa aliyense kutsatira chikhalidwe ni miyambo yawo popanda tsankho.'}]},\n",
       " {'messages': [{'role': 'system',\n",
       "    'content': 'you are a helpful assistant that answers question from user from chichewa constitution of malawi in the form Chapter:<constitution_chapter>,Section:<costitution_section>, <answer_from_chichewa_constititution>'},\n",
       "   {'role': 'user',\n",
       "    'content': 'malamulo amat chani pa mikangano ya malo ku muzi '},\n",
       "   {'role': 'assistant',\n",
       "    'content': '59. Milandu ya malo imathetsedwa ni nyumba za malamulo ni amfumu, izi zili mu Section 213, Chapter 18 cha Constitution, komwe malamulo amateteza ufulu wa katundu wa mzika nipo milandu ya malo ikhoza kuthanizidwa ni nyumba za malamulo kapena amfumu.'}]},\n",
       " {'messages': [{'role': 'system',\n",
       "    'content': 'you are a helpful assistant that answers question from user from chichewa constitution of malawi in the form Chapter:<constitution_chapter>,Section:<costitution_section>, <answer_from_chichewa_constititution>'},\n",
       "   {'role': 'user',\n",
       "    'content': 'malamulo amat chani kwa amai ni ana omwe asiidwa banja popanda thanizo  '},\n",
       "   {'role': 'assistant',\n",
       "    'content': \"60. Malamulo amateteza amai ni ana kwa nkhanza komanso kupereka thanizo, malinga ni Section 24, Chapter 4 cha Constitution, lomwe limapereka chitetezo kwa akazi ni ana kuti asakumane ni nkhanza ni kuti apatsidwe thanizo ngati athaŵa nkhanza m'banja.\"}]},\n",
       " {'messages': [{'role': 'system',\n",
       "    'content': 'you are a helpful assistant that answers question from user from chichewa constitution of malawi in the form Chapter:<constitution_chapter>,Section:<costitution_section>, <answer_from_chichewa_constititution>'},\n",
       "   {'role': 'user',\n",
       "    'content': 'malamulo amati chani pamene boma lafuna kuchotsa anthu pa malo okhala kamba kofuna kumangapo chitukuko '},\n",
       "   {'role': 'assistant',\n",
       "    'content': '61. Anthu ayenera kupatsidwa chipukuta malo, izi zili mu Section 28, Chapter 4 cha Constitution, komwe malamulo amateteza ufulu wa munthu aliyense wa katundu wake nipo ali ni ufulu wokhala pa malo ake kapena kulanira chipukuta malo ngati akuchotsedwa mosalungama'}]},\n",
       " {'messages': [{'role': 'system',\n",
       "    'content': 'you are a helpful assistant that answers question from user from chichewa constitution of malawi in the form Chapter:<constitution_chapter>,Section:<costitution_section>, <answer_from_chichewa_constititution>'},\n",
       "   {'role': 'user', 'content': 'ogwila ntchito mu boma ali ni ufulu wanji'},\n",
       "   {'role': 'assistant',\n",
       "    'content': '62. Ali ni ufulu wokhala pa ntchito, kulipilidwa, ni chitetezo, kutengela ni Section 31, Chapter 4 cha Constitution, lomwe limapereka ufulu wa ntchito ni kulanira malipiro oyenera komanso chitetezo kwa aliyense.'}]}]"
      ]
     },
     "execution_count": 100,
     "metadata": {},
     "output_type": "execute_result"
    }
   ],
   "source": [
    "all_conversations"
   ]
  },
  {
   "cell_type": "code",
   "execution_count": 101,
   "id": "3dcbd926-6da9-4a24-912a-3bca92aff20b",
   "metadata": {},
   "outputs": [
    {
     "data": {
      "text/plain": [
       "[{'messages': [{'role': 'system',\n",
       "    'content': 'you are a helpful assistant that answers question from user from chichewa constitution of malawi in the form Chapter:<constitution_chapter>,Section:<costitution_section>, <answer_from_chichewa_constititution>'},\n",
       "   {'role': 'user', 'content': 'nanga ana achichepele ali ni ufulu wanji '},\n",
       "   {'role': 'assistant',\n",
       "    'content': '50. Ali ni ufulu wa maphunziro ni kusamaliridwa, izi zili mu Section 13, Chapter 3 cha Constitution, komwe ana ni anthu onse ali ni ufulu wa maphunziro komanso chitetezo cha thupi ni malingaliro.'}]},\n",
       " {'messages': [{'role': 'system',\n",
       "    'content': 'you are a helpful assistant that answers question from user from chichewa constitution of malawi in the form Chapter:<constitution_chapter>,Section:<costitution_section>, <answer_from_chichewa_constititution>'},\n",
       "   {'role': 'user',\n",
       "    'content': 'kumenya munthu wogwidwa pomwe amavlaza ena nikulakwisa'},\n",
       "   {'role': 'assistant',\n",
       "    'content': '37. Kumenya munthu sikuloledwa ni malamulo, izi zikutsimikizidwa ni Section 19, Chapter 4, chomwe chimateteza aliyense ku nkhanza ni kupezeka pachiwawa popanda chilungamo.'}]},\n",
       " {'messages': [{'role': 'system',\n",
       "    'content': 'you are a helpful assistant that answers question from user from chichewa constitution of malawi in the form Chapter:<constitution_chapter>,Section:<costitution_section>, <answer_from_chichewa_constititution>'},\n",
       "   {'role': 'user', 'content': 'ufulu wa anthu achikulire '},\n",
       "   {'role': 'assistant',\n",
       "    'content': '9. Anthu achikulire ali ni ufulu wa chitetezo, kutengela ni Section 13(b), Chapter 3, lomwe limatsinika kuti boma liyenera kusamalira anthu achikulire powapatsa chitetezo ni zothaniza pamoyo wawo.'}]},\n",
       " {'messages': [{'role': 'system',\n",
       "    'content': 'you are a helpful assistant that answers question from user from chichewa constitution of malawi in the form Chapter:<constitution_chapter>,Section:<costitution_section>, <answer_from_chichewa_constititution>'},\n",
       "   {'role': 'user', 'content': 'malamulo oteteza katundu wa ana amasye   '},\n",
       "   {'role': 'assistant',\n",
       "    'content': '28. Constitution imateteza katundu wa ana, izi zili mu Section 23, Chapter 4, lomwe limapereka chitetezo kwa ana ku nkhanza komanso chitetezo pa katundu wawo.'}]},\n",
       " {'messages': [{'role': 'system',\n",
       "    'content': 'you are a helpful assistant that answers question from user from chichewa constitution of malawi in the form Chapter:<constitution_chapter>,Section:<costitution_section>, <answer_from_chichewa_constititution>'},\n",
       "   {'role': 'user',\n",
       "    'content': 'ni udindo wanji omwe nili nawo ngati mzika ya malawi muno '},\n",
       "   {'role': 'assistant',\n",
       "    'content': '18. ninu ni udindo wotsatira malamulo ni kuteteza dziko, kutengela ni Section 44, Chapter 4 cha Constitution, lomwe limatchula udindo wa mzika kutsatira malamulo nikuchita zofuna za dziko.'}]},\n",
       " {'messages': [{'role': 'system',\n",
       "    'content': 'you are a helpful assistant that answers question from user from chichewa constitution of malawi in the form Chapter:<constitution_chapter>,Section:<costitution_section>, <answer_from_chichewa_constititution>'},\n",
       "   {'role': 'user',\n",
       "    'content': 'malamulo amati chani kwa amene tagulisidwa malo mobeledwa kapena mwachinyengo '},\n",
       "   {'role': 'assistant',\n",
       "    'content': '14. Malamulo amakulolani kudzafuna chilungamo ku khoti, kutengela ni Section 41, Chapter 4 cha Constitution, limene limatsimikizira kuti aliyense ali ni ufulu wopeza chilungamo kudzera m’khoti popanda ziletso.'}]},\n",
       " {'messages': [{'role': 'system',\n",
       "    'content': 'you are a helpful assistant that answers question from user from chichewa constitution of malawi in the form Chapter:<constitution_chapter>,Section:<costitution_section>, <answer_from_chichewa_constititution>'},\n",
       "   {'role': 'user',\n",
       "    'content': 'kodi bukhu la malamulo liti chiyani za chiyankhulo mmalawi muno '},\n",
       "   {'role': 'assistant',\n",
       "    'content': '45. Limazinikira chiyankhulo chachikulu ngati Chichewa ni Chingerezi, izi zili mu Section 51, Chapter 6, lomwe limafotokoza kuti Chichewa ni Chingerezi ni zilankhulo zovomerezeka zotsogolera boma la Malawi'}]},\n",
       " {'messages': [{'role': 'system',\n",
       "    'content': 'you are a helpful assistant that answers question from user from chichewa constitution of malawi in the form Chapter:<constitution_chapter>,Section:<costitution_section>, <answer_from_chichewa_constititution>'},\n",
       "   {'role': 'user',\n",
       "    'content': 'mwana akalakwisa tisamumenye malingana ni malamulo '},\n",
       "   {'role': 'assistant',\n",
       "    'content': '22. Malamulo samalola kumenya ana, izi zili mu Section 23, Chapter 4 cha Constitution, lomwe limateteza ana ku nkhanza, kuphatikizapo kuwalanga mwankhanza.'}]},\n",
       " {'messages': [{'role': 'system',\n",
       "    'content': 'you are a helpful assistant that answers question from user from chichewa constitution of malawi in the form Chapter:<constitution_chapter>,Section:<costitution_section>, <answer_from_chichewa_constititution>'},\n",
       "   {'role': 'user',\n",
       "    'content': 'kodi ni udindo wa ndani kuonetsetsa kuti anthu sakuphwanya malamulo '},\n",
       "   {'role': 'assistant',\n",
       "    'content': '31. Udindo uli pa boma ni apolisi, kutengela ni Section 13, Chapter 3 cha Constitution, lomwe limapereka udindo wa boma kupereka chitetezo kwa mzika zonse kudzera mwa apolisi ni mabungwe ena a chitetezo.'}]},\n",
       " {'messages': [{'role': 'system',\n",
       "    'content': 'you are a helpful assistant that answers question from user from chichewa constitution of malawi in the form Chapter:<constitution_chapter>,Section:<costitution_section>, <answer_from_chichewa_constititution>'},\n",
       "   {'role': 'user', 'content': 'asing’anga kulanda zithumwa, mkulakwa '},\n",
       "   {'role': 'assistant',\n",
       "    'content': '27. Kulanda zinthu popanda chilolezo nikulakwa, malinga ni Section 28, Chapter 4 cha Constitution, lomwe limateteza ufulu wa katundu, nikunena kuti zinthu za munthu siziyenera kutengedwa popanda chilungamo kapena chilolezo.'}]},\n",
       " {'messages': [{'role': 'system',\n",
       "    'content': 'you are a helpful assistant that answers question from user from chichewa constitution of malawi in the form Chapter:<constitution_chapter>,Section:<costitution_section>, <answer_from_chichewa_constititution>'},\n",
       "   {'role': 'user',\n",
       "    'content': 'malamulo amati chani pamene boma lafuna kuchotsa anthu pa malo okhala kamba kofuna kumangapo chitukuko '},\n",
       "   {'role': 'assistant',\n",
       "    'content': '61. Anthu ayenera kupatsidwa chipukuta malo, izi zili mu Section 28, Chapter 4 cha Constitution, komwe malamulo amateteza ufulu wa munthu aliyense wa katundu wake nipo ali ni ufulu wokhala pa malo ake kapena kulanira chipukuta malo ngati akuchotsedwa mosalungama'}]},\n",
       " {'messages': [{'role': 'system',\n",
       "    'content': 'you are a helpful assistant that answers question from user from chichewa constitution of malawi in the form Chapter:<constitution_chapter>,Section:<costitution_section>, <answer_from_chichewa_constititution>'},\n",
       "   {'role': 'user',\n",
       "    'content': 'ni milandu yanji ili yosaenera kufika ku khoti '},\n",
       "   {'role': 'assistant',\n",
       "    'content': \"33. Milandu yaying'ono ingathe kuthetsedwa mwa mgwirizano, izi zili mu Section 133, Chapter 9 cha Constitution, komwe malamulo amalola kuti milandu yaying'ono imalizidwe mwamsanga popanda kuiponyera ku khoti.\"}]},\n",
       " {'messages': [{'role': 'system',\n",
       "    'content': 'you are a helpful assistant that answers question from user from chichewa constitution of malawi in the form Chapter:<constitution_chapter>,Section:<costitution_section>, <answer_from_chichewa_constititution>'},\n",
       "   {'role': 'user',\n",
       "    'content': 'mafuna kudziwa dza ufulu wathu opanga ma demo '},\n",
       "   {'role': 'assistant',\n",
       "    'content': '12. Malamulo amalola ma demo mwa mtendere, malinga ni Section 38, Chapter 4 cha Constitution, lomwe limapereka ufulu wa anthu kusonkhana nikupanga ma demo popanda kuphwanya mtendere.'}]},\n",
       " {'messages': [{'role': 'system',\n",
       "    'content': 'you are a helpful assistant that answers question from user from chichewa constitution of malawi in the form Chapter:<constitution_chapter>,Section:<costitution_section>, <answer_from_chichewa_constititution>'},\n",
       "   {'role': 'user',\n",
       "    'content': 'wotiyimila samabwelesa chitukuko kumadera, malamulo amakamba chani '},\n",
       "   {'role': 'assistant',\n",
       "    'content': '5. Nyumba ya Malamulo imayenera kuyimila anthu bwino, kutengela ni ndondomeko za Chapter 6, Section 8, imene imayikira patsogolo kuyimilira mzika zonse mogwirizana ni zofuna zawo nikutsatira ulamuliro wa malamulo.'}]},\n",
       " {'messages': [{'role': 'system',\n",
       "    'content': 'you are a helpful assistant that answers question from user from chichewa constitution of malawi in the form Chapter:<constitution_chapter>,Section:<costitution_section>, <answer_from_chichewa_constititution>'},\n",
       "   {'role': 'user',\n",
       "    'content': 'kodi malamulo a mziko lino amati chani pamkhani yachipembezo '},\n",
       "   {'role': 'assistant',\n",
       "    'content': '20. Ufulu wolambira chipembedzo uli ni chitetezo, kutengela ni Section 33, Chapter 4 cha Constitution, lomwe limapereka ufulu wa munthu aliyense kusankha chipembedzo komanso kulambiramo momasuka.'}]},\n",
       " {'messages': [{'role': 'system',\n",
       "    'content': 'you are a helpful assistant that answers question from user from chichewa constitution of malawi in the form Chapter:<constitution_chapter>,Section:<costitution_section>, <answer_from_chichewa_constititution>'},\n",
       "   {'role': 'user', 'content': 'ndani ali oyenera ku vota pa zisankho '},\n",
       "   {'role': 'assistant',\n",
       "    'content': '43. Aliyense wazaka 18 ni kupitilira, kutengela ni Section 77(2), Chapter 6, limene limapereka ufulu kwa aliyense wa zaka 18 ni kupitilira kuti akhale ni mwayi wovota mu chisankho chilichonse'}]},\n",
       " {'messages': [{'role': 'system',\n",
       "    'content': 'you are a helpful assistant that answers question from user from chichewa constitution of malawi in the form Chapter:<constitution_chapter>,Section:<costitution_section>, <answer_from_chichewa_constititution>'},\n",
       "   {'role': 'user', 'content': 'nanga anthu aulumali ali ni ufulu wanji  '},\n",
       "   {'role': 'assistant',\n",
       "    'content': '49. Ali ni ufulu wa chitetezo ni zofuna zofananira, izi zili mu Section 23, Chapter 4 cha Constitution, komwe ana olumala akuyenera kutetezedwa ni kuthanizidwa kuti akhale ni moyo wabwino ngati anzawo'}]},\n",
       " {'messages': [{'role': 'system',\n",
       "    'content': 'you are a helpful assistant that answers question from user from chichewa constitution of malawi in the form Chapter:<constitution_chapter>,Section:<costitution_section>, <answer_from_chichewa_constititution>'},\n",
       "   {'role': 'user',\n",
       "    'content': 'chilango cha munthu wogwililira chinati chani '},\n",
       "   {'role': 'assistant',\n",
       "    'content': '11. Chilango cha munthu ogwilira ni zaka 14, kutengela ni Section 137, Chapter 15, lomwe limapereka malamulo okhwima pa milandu yokhudza kugwilira komanso kuphwanya ufulu wa ena.'}]},\n",
       " {'messages': [{'role': 'system',\n",
       "    'content': 'you are a helpful assistant that answers question from user from chichewa constitution of malawi in the form Chapter:<constitution_chapter>,Section:<costitution_section>, <answer_from_chichewa_constititution>'},\n",
       "   {'role': 'user', 'content': 'funa kudziwa za ufulu wanga  '},\n",
       "   {'role': 'assistant',\n",
       "    'content': '10. Ufulu wanu uli mu Constitution ya Malawi, malinga ni Section 44, Chapter 4, lomwe limatsimikizira kuti ufulu uliwonse womwe constitution imapereka uyenera kutetezedwa mogwirizana ni malamulo.'}]},\n",
       " {'messages': [{'role': 'system',\n",
       "    'content': 'you are a helpful assistant that answers question from user from chichewa constitution of malawi in the form Chapter:<constitution_chapter>,Section:<costitution_section>, <answer_from_chichewa_constititution>'},\n",
       "   {'role': 'user',\n",
       "    'content': 'ndani ali ololedwa kukhala mzika ya dziko lina  '},\n",
       "   {'role': 'assistant',\n",
       "    'content': '40. Constitution imapereka malamulo okhazikitsa umzika, kutengela ni Section 47, Chapter 4, lomwe limatchula kuti mzika ya Malawi imapatsidwa ni ndondomeko za boma, poganizira mabwana kapena zibwana.'}]},\n",
       " {'messages': [{'role': 'system',\n",
       "    'content': 'you are a helpful assistant that answers question from user from chichewa constitution of malawi in the form Chapter:<constitution_chapter>,Section:<costitution_section>, <answer_from_chichewa_constititution>'},\n",
       "   {'role': 'user',\n",
       "    'content': 'kodi malamulo amati bwanji pa nkhani ya ufulu wolankhula zakukhosi '},\n",
       "   {'role': 'assistant',\n",
       "    'content': '39. Constitution imapereka ufulu wolankhula, izi zili mu Section 35, Chapter 4, lomwe limapereka ufulu kwa mzika zonsedi kulankhula zakukhosi kwawo popanda choletsa.'}]},\n",
       " {'messages': [{'role': 'system',\n",
       "    'content': 'you are a helpful assistant that answers question from user from chichewa constitution of malawi in the form Chapter:<constitution_chapter>,Section:<costitution_section>, <answer_from_chichewa_constititution>'},\n",
       "   {'role': 'user',\n",
       "    'content': 'anthu obwela angathe kukhala mzika ya malawi muno  '},\n",
       "   {'role': 'assistant',\n",
       "    'content': '41. Inde, atatsatira malamulo a umzika, kutengela ni Section 47, Chapter 4, komwe Constitution imapereka njira zowonekera zopezera umzika kwa anthu obwera.'}]},\n",
       " {'messages': [{'role': 'system',\n",
       "    'content': 'you are a helpful assistant that answers question from user from chichewa constitution of malawi in the form Chapter:<constitution_chapter>,Section:<costitution_section>, <answer_from_chichewa_constititution>'},\n",
       "   {'role': 'user',\n",
       "    'content': 'munyumba ya malamulo muti chani pakusamalira anthu okalamba '},\n",
       "   {'role': 'assistant',\n",
       "    'content': '32. Constitution imateteza anthu okalamba, izi zili mu Section 13(b), Chapter 3, komwe malamulo amatsimikizira kuti anthu okalamba ayenera kutetezedwa ni kuthanizidwa.'}]},\n",
       " {'messages': [{'role': 'system',\n",
       "    'content': 'you are a helpful assistant that answers question from user from chichewa constitution of malawi in the form Chapter:<constitution_chapter>,Section:<costitution_section>, <answer_from_chichewa_constititution>'},\n",
       "   {'role': 'user',\n",
       "    'content': 'musogoleri sabwelesa chitukuko kumuzi, titani '},\n",
       "   {'role': 'assistant',\n",
       "    'content': '7. Anthu amatha kufunsa mafunso ku Nyumba ya Malamulo, malinga ni Section 8, Chapter 6, imene imawona kuti mzika zonse zili ni ufulu wofunsa malamulo ni zofuna za boma kudzera mwa oyimilira awo.'}]},\n",
       " {'messages': [{'role': 'system',\n",
       "    'content': 'you are a helpful assistant that answers question from user from chichewa constitution of malawi in the form Chapter:<constitution_chapter>,Section:<costitution_section>, <answer_from_chichewa_constititution>'},\n",
       "   {'role': 'user',\n",
       "    'content': 'malamulo amathaniza bwanji azimayi omwe achitidwa mkhamza kubanja '},\n",
       "   {'role': 'assistant',\n",
       "    'content': '13. Constitution imateteza azimayi ku nkhanza, izi zili mu Section 24, Chapter 4, lomwe limatsimikizira kuti akazi ali ni ufulu wofanana ni amuna nipo ayenera kutetezedwa ku nkhanza za m’banja.'}]},\n",
       " {'messages': [{'role': 'system',\n",
       "    'content': 'you are a helpful assistant that answers question from user from chichewa constitution of malawi in the form Chapter:<constitution_chapter>,Section:<costitution_section>, <answer_from_chichewa_constititution>'},\n",
       "   {'role': 'user',\n",
       "    'content': 'malamulo amat chani kwa amai ni ana omwe asiidwa banja popanda thanizo  '},\n",
       "   {'role': 'assistant',\n",
       "    'content': \"60. Malamulo amateteza amai ni ana kwa nkhanza komanso kupereka thanizo, malinga ni Section 24, Chapter 4 cha Constitution, lomwe limapereka chitetezo kwa akazi ni ana kuti asakumane ni nkhanza ni kuti apatsidwe thanizo ngati athaŵa nkhanza m'banja.\"}]},\n",
       " {'messages': [{'role': 'system',\n",
       "    'content': 'you are a helpful assistant that answers question from user from chichewa constitution of malawi in the form Chapter:<constitution_chapter>,Section:<costitution_section>, <answer_from_chichewa_constititution>'},\n",
       "   {'role': 'user',\n",
       "    'content': 'ma membala a paliyamenti amasankhidwa kutsata ndondomeko yanji '},\n",
       "   {'role': 'assistant',\n",
       "    'content': '42. Amasankhidwa kudzera mu chisankho cha poyera, izi zili mu Section 67, Chapter 6 cha Constitution, lomwe limanena kuti a paliyamenti amasankhidwa mogwirizana ni chisankho choyenera komanso chisankho chopanda tsankho.'}]},\n",
       " {'messages': [{'role': 'system',\n",
       "    'content': 'you are a helpful assistant that answers question from user from chichewa constitution of malawi in the form Chapter:<constitution_chapter>,Section:<costitution_section>, <answer_from_chichewa_constititution>'},\n",
       "   {'role': 'user', 'content': 'malamulo oteteza kuti mabanja asamathe '},\n",
       "   {'role': 'assistant',\n",
       "    'content': \"29. Constitution imalimbikitsa kuti mabanja athetse mikangano mwamtendere, kutengela ni Section 22, Chapter 4 cha Constitution, lomwe limatsimikizira kuti boma liyenera kulimbikitsa kuthetsa mikangano m'banja mwa mtendere.\"}]},\n",
       " {'messages': [{'role': 'system',\n",
       "    'content': 'you are a helpful assistant that answers question from user from chichewa constitution of malawi in the form Chapter:<constitution_chapter>,Section:<costitution_section>, <answer_from_chichewa_constititution>'},\n",
       "   {'role': 'user', 'content': 'nimafuna niziwe malamulo '},\n",
       "   {'role': 'assistant',\n",
       "    'content': '6. Constitution ya Malawi imakamba za ufulu wanu, mu Section 44, Chapter 4, mumanena kuti ufulu uliwonse womwe mzika ili nawo uyenera kutetezedwa ndpo suyenela kuikidwa pansi pa malamulo ena.'}]},\n",
       " {'messages': [{'role': 'system',\n",
       "    'content': 'you are a helpful assistant that answers question from user from chichewa constitution of malawi in the form Chapter:<constitution_chapter>,Section:<costitution_section>, <answer_from_chichewa_constititution>'},\n",
       "   {'role': 'user', 'content': 'ntchito zonse zili ni leave '},\n",
       "   {'role': 'assistant',\n",
       "    'content': '3. Malamulo amapereka ufulu wa leave kwa ogwira ntchito onse, kutengela ni Section 31, Chapter 4 cha Constitution, limene limapereka ufulu wogwira ntchito kukhala ni maholide kapena leave monga Section la ufulu wa ntchito.'}]},\n",
       " {'messages': [{'role': 'system',\n",
       "    'content': 'you are a helpful assistant that answers question from user from chichewa constitution of malawi in the form Chapter:<constitution_chapter>,Section:<costitution_section>, <answer_from_chichewa_constititution>'},\n",
       "   {'role': 'user',\n",
       "    'content': 'buku la malamulo liti chani pa chitetezo cha dziko  '},\n",
       "   {'role': 'assistant',\n",
       "    'content': '55. Constitution imateteza chitetezo cha dziko lonse, malinga ni Section 146, Chapter 14 cha Constitution, lomwe limayang’anira chitetezo ni kulondera chitukuko cha dziko.'}]},\n",
       " {'messages': [{'role': 'system',\n",
       "    'content': 'you are a helpful assistant that answers question from user from chichewa constitution of malawi in the form Chapter:<constitution_chapter>,Section:<costitution_section>, <answer_from_chichewa_constititution>'},\n",
       "   {'role': 'user',\n",
       "    'content': 'anthu opanga mademo ali ni udindo wanji ngati mzika za malawi muno '},\n",
       "   {'role': 'assistant',\n",
       "    'content': '21. Ali ni udindo wopanga ma demo mwamtendere, izi zili mu Section 38, Chapter 4 cha Constitution, komwe kulola kusonkhana mwamtendere.'}]},\n",
       " {'messages': [{'role': 'system',\n",
       "    'content': 'you are a helpful assistant that answers question from user from chichewa constitution of malawi in the form Chapter:<constitution_chapter>,Section:<costitution_section>, <answer_from_chichewa_constititution>'},\n",
       "   {'role': 'user', 'content': 'ufulu wa anthu wolumala uti bwa '},\n",
       "   {'role': 'assistant',\n",
       "    'content': '25. Anthu olumala ali ni ufulu wa chitetezo ni kuthanizidwa, kutengela ni Section 13(g), Chapter 3 cha Constitution, lomwe limafotokoza kuti anthu olumala ayenera kukhala ni chitetezo ni kulaniridwa ngati anzawo.'}]},\n",
       " {'messages': [{'role': 'system',\n",
       "    'content': 'you are a helpful assistant that answers question from user from chichewa constitution of malawi in the form Chapter:<constitution_chapter>,Section:<costitution_section>, <answer_from_chichewa_constititution>'},\n",
       "   {'role': 'user',\n",
       "    'content': 'munthu ayenera kukhala ni zololedwa za+a27nji kupezeka mu nyumba ya aphungu '},\n",
       "   {'role': 'assistant',\n",
       "    'content': '54. Ayenera kukhala wazaka 18 ni kupitilira, kutengela ni Section 77, Chapter 6 cha Constitution, lomwe limapereka ufulu wa mzika zonse zopitilira zaka 18 kuti azikhala ni mwayi wovota.'}]},\n",
       " {'messages': [{'role': 'system',\n",
       "    'content': 'you are a helpful assistant that answers question from user from chichewa constitution of malawi in the form Chapter:<constitution_chapter>,Section:<costitution_section>, <answer_from_chichewa_constititution>'},\n",
       "   {'role': 'user',\n",
       "    'content': 'malamulo amene amasogolera zilanilaa zinthu, ngati makoponi '},\n",
       "   {'role': 'assistant',\n",
       "    'content': '24. Constitution imayang’anira chilungamo pakatundu wa anthu, izi zili mu Section 24, Chapter 4, lomwe limapereka chitetezo cha katundu wa akazi ni ana popanda kutsutsidwa.'}]},\n",
       " {'messages': [{'role': 'system',\n",
       "    'content': 'you are a helpful assistant that answers question from user from chichewa constitution of malawi in the form Chapter:<constitution_chapter>,Section:<costitution_section>, <answer_from_chichewa_constititution>'},\n",
       "   {'role': 'user',\n",
       "    'content': 'kodi malamulo amateteza bwanji ufulu wanga ngati ndatengedwa mlandu popanda chifukwa  '},\n",
       "   {'role': 'assistant',\n",
       "    'content': '56. Constitution imateteza ufulu wa kulaniridwa mwachilungamo, izi zili mu Section 42, Chapter 4, komwe Constitution imatsimikizira kuti aliyense ayenera kuchitiridwa chilungamo m’milandu yake.'}]},\n",
       " {'messages': [{'role': 'system',\n",
       "    'content': 'you are a helpful assistant that answers question from user from chichewa constitution of malawi in the form Chapter:<constitution_chapter>,Section:<costitution_section>, <answer_from_chichewa_constititution>'},\n",
       "   {'role': 'user',\n",
       "    'content': 'kodi amai apakhomo ali ni ufulu otsutsa ndemanga ya amuna awo ngati sanasangalale nayo'},\n",
       "   {'role': 'assistant',\n",
       "    'content': '35. Amayi ali ni ufulu wodandaula nikufuna chilungamo, izi zili mu Section 24, Chapter 4 cha Constitution, lomwe limapereka ufulu kwa akazi kuti akhale ni mau nipo afufuze chilungamo ngati sanasangalale ni zimene amuna awo achita.'}]},\n",
       " {'messages': [{'role': 'system',\n",
       "    'content': 'you are a helpful assistant that answers question from user from chichewa constitution of malawi in the form Chapter:<constitution_chapter>,Section:<costitution_section>, <answer_from_chichewa_constititution>'},\n",
       "   {'role': 'user',\n",
       "    'content': 'malamulo amat chani pa mikangano ya malo ku muzi '},\n",
       "   {'role': 'assistant',\n",
       "    'content': '59. Milandu ya malo imathetsedwa ni nyumba za malamulo ni amfumu, izi zili mu Section 213, Chapter 18 cha Constitution, komwe malamulo amateteza ufulu wa katundu wa mzika nipo milandu ya malo ikhoza kuthanizidwa ni nyumba za malamulo kapena amfumu.'}]},\n",
       " {'messages': [{'role': 'system',\n",
       "    'content': 'you are a helpful assistant that answers question from user from chichewa constitution of malawi in the form Chapter:<constitution_chapter>,Section:<costitution_section>, <answer_from_chichewa_constititution>'},\n",
       "   {'role': 'user',\n",
       "    'content': 'kodi ana anga akhoza kupeza maphunziro aulere malinga ni malamulo  '},\n",
       "   {'role': 'assistant',\n",
       "    'content': '57. Inde, ana ayenera kupeza maphunziro aulere, malinga ni Section 25, Chapter 4 cha Constitution, lomwe limatsimikizira kuti ana ali ni ufulu wophunzira nipo boma liyenera kupereka maphunziro.'}]},\n",
       " {'messages': [{'role': 'system',\n",
       "    'content': 'you are a helpful assistant that answers question from user from chichewa constitution of malawi in the form Chapter:<constitution_chapter>,Section:<costitution_section>, <answer_from_chichewa_constititution>'},\n",
       "   {'role': 'user',\n",
       "    'content': 'kodi malamulo amateteza bwanji miyambo ni zikhalidwe zathu zaku malawi  '},\n",
       "   {'role': 'assistant',\n",
       "    'content': '58. Constitution imalemekeza miyambo ya anthu, izi zili mu Section 26, Chapter 4 cha Constitution, lomwe limapereka ufulu kwa aliyense kutsatira chikhalidwe ni miyambo yawo popanda tsankho.'}]},\n",
       " {'messages': [{'role': 'system',\n",
       "    'content': 'you are a helpful assistant that answers question from user from chichewa constitution of malawi in the form Chapter:<constitution_chapter>,Section:<costitution_section>, <answer_from_chichewa_constititution>'},\n",
       "   {'role': 'user',\n",
       "    'content': 'malamulo omasiyana akumuz ni ntauni, nanga bwanji kumuzi kulibe chitukuko  '},\n",
       "   {'role': 'assistant',\n",
       "    'content': '23. Malamulo ni ofanana, chitukuko chili pa ndondomeko za boma, malinga ni Section 199, Chapter 10 cha Constitution, lomwe limayang’anira mabungwe a boma kuti azigwira ntchito mogwirizana ni zofuna za anthu.'}]},\n",
       " {'messages': [{'role': 'system',\n",
       "    'content': 'you are a helpful assistant that answers question from user from chichewa constitution of malawi in the form Chapter:<constitution_chapter>,Section:<costitution_section>, <answer_from_chichewa_constititution>'},\n",
       "   {'role': 'user',\n",
       "    'content': 'nanga mtsogoleri wa dziko amayenera kulamulira kwa nthawi yochuluka bwanji  '},\n",
       "   {'role': 'assistant',\n",
       "    'content': \"52. Amalonda kwa zaka zisanu, malinga ni Section 83, Chapter 8, mtsogoleri wa dziko amasankhidwa kukhala m'malo kwa nthawi ya zaka zisanu nipo amatha kuyimanso kamodzi kokha.\"}]},\n",
       " {'messages': [{'role': 'system',\n",
       "    'content': 'you are a helpful assistant that answers question from user from chichewa constitution of malawi in the form Chapter:<constitution_chapter>,Section:<costitution_section>, <answer_from_chichewa_constititution>'},\n",
       "   {'role': 'user',\n",
       "    'content': 'kodi amfumu ammudzi ali ni mphanvu yanji yosova milandu mmudzi'},\n",
       "   {'role': 'assistant',\n",
       "    'content': \"34. Amfumu amakhala ni udindo wowona milandu yaying'ono, malinga ni Section 110(3), Chapter 9, lomwe limapereka mphamvu kwa amfumu kuti azitha kuweruza milandu yaying'ono komwe kumadera awo.\"}]},\n",
       " {'messages': [{'role': 'system',\n",
       "    'content': 'you are a helpful assistant that answers question from user from chichewa constitution of malawi in the form Chapter:<constitution_chapter>,Section:<costitution_section>, <answer_from_chichewa_constititution>'},\n",
       "   {'role': 'user',\n",
       "    'content': 'kodi amai ni ana ali ni ufulu wanji malingana ni buku la malamulo  '},\n",
       "   {'role': 'assistant',\n",
       "    'content': '38. Ali ni ufulu wofanana ni chitetezo, kutengela ni Section 20, Chapter 4, lomwe limapereka chitetezo chofanana kwa aliyense popanda tsankho pazifukwa zilizonse.'}]},\n",
       " {'messages': [{'role': 'system',\n",
       "    'content': 'you are a helpful assistant that answers question from user from chichewa constitution of malawi in the form Chapter:<constitution_chapter>,Section:<costitution_section>, <answer_from_chichewa_constititution>'},\n",
       "   {'role': 'user', 'content': 'munthu wokuba mbuzi chilango chake ni chani '},\n",
       "   {'role': 'assistant',\n",
       "    'content': \"36. Chilango chimaonekeratu ni khoti, koma nthawi zambiri zimakhala m'ndende, malinga ni malamulo a Section 137 cha Chapter 15 cha Constitution chomwe chimakhazikitsa milandu ni malamulo a chiwawa, kuphatikizapo kuba.\"}]},\n",
       " {'messages': [{'role': 'system',\n",
       "    'content': 'you are a helpful assistant that answers question from user from chichewa constitution of malawi in the form Chapter:<constitution_chapter>,Section:<costitution_section>, <answer_from_chichewa_constititution>'},\n",
       "   {'role': 'user', 'content': 'kodi malamulo amateteza bwanji ufulu wa ana '},\n",
       "   {'role': 'assistant',\n",
       "    'content': '48. Malamulo amateteza ana ku nkhanza ni kupereka maphunziro, malinga ni Section 23, Chapter 4 cha Constitution, lomwe limatsimikizira kuti ana ayenera kulaniridwa popanda kugwidwa ni nkhanza komanso kupatsidwa maphunziro oyenera'}]},\n",
       " {'messages': [{'role': 'system',\n",
       "    'content': 'you are a helpful assistant that answers question from user from chichewa constitution of malawi in the form Chapter:<constitution_chapter>,Section:<costitution_section>, <answer_from_chichewa_constititution>'},\n",
       "   {'role': 'user',\n",
       "    'content': 'banja likatha koma mkazi sanapange nawo contribute zinthu niwoyenela kutengako gawo laachuma '},\n",
       "   {'role': 'assistant',\n",
       "    'content': \"4. Malamulo amateteza nkazi ngakhale sanapange contribute, izi zili mu Section 24, Chapter 4 cha Constitution ya Malawi, lomwe limatsimikizira kuti nkazi ali ni ufulu m'banja ngakhale sanapereke gawo lake la ndalama, komanso akuyenera kulaniridwa mopanda tsankho.\"}]},\n",
       " {'messages': [{'role': 'system',\n",
       "    'content': 'you are a helpful assistant that answers question from user from chichewa constitution of malawi in the form Chapter:<constitution_chapter>,Section:<costitution_section>, <answer_from_chichewa_constititution>'},\n",
       "   {'role': 'user', 'content': 'ogwila ntchito mu boma ali ni ufulu wanji'},\n",
       "   {'role': 'assistant',\n",
       "    'content': '62. Ali ni ufulu wokhala pa ntchito, kulipilidwa, ni chitetezo, kutengela ni Section 31, Chapter 4 cha Constitution, lomwe limapereka ufulu wa ntchito ni kulanira malipiro oyenera komanso chitetezo kwa aliyense.'}]},\n",
       " {'messages': [{'role': 'system',\n",
       "    'content': 'you are a helpful assistant that answers question from user from chichewa constitution of malawi in the form Chapter:<constitution_chapter>,Section:<costitution_section>, <answer_from_chichewa_constititution>'},\n",
       "   {'role': 'user',\n",
       "    'content': 'buku la malamulo liti chani pa ufulu wokhala ni moyo  '},\n",
       "   {'role': 'assistant',\n",
       "    'content': '47. Ufulu wokhala ni moyo uli ni chitetezo cha malamulo, kutengela ni Section 16, Chapter 4 cha Constitution, komwe kulambira moyo wa munthu ni chitetezo chopanda malire'}]},\n",
       " {'messages': [{'role': 'system',\n",
       "    'content': 'you are a helpful assistant that answers question from user from chichewa constitution of malawi in the form Chapter:<constitution_chapter>,Section:<costitution_section>, <answer_from_chichewa_constititution>'},\n",
       "   {'role': 'user', 'content': 'ana achichepele ali ni ufulu wanji '},\n",
       "   {'role': 'assistant',\n",
       "    'content': '30. Ali ni ufulu wa maphunziro ni chitetezo, malinga ni Section 23, Chapter 4 cha Constitution, lomwe limatsimikizira kuti ana onse ali ni ufulu wophunzira ni kutetezedwa ku nkhanza kapena kusasamala.'}]},\n",
       " {'messages': [{'role': 'system',\n",
       "    'content': 'you are a helpful assistant that answers question from user from chichewa constitution of malawi in the form Chapter:<constitution_chapter>,Section:<costitution_section>, <answer_from_chichewa_constititution>'},\n",
       "   {'role': 'user', 'content': 'nimafuna kudziwa za malamulo a mdziko lino '},\n",
       "   {'role': 'assistant',\n",
       "    'content': '16. Constitution ni ndondomeko zazikulu za malamulo, izi zili mu Section 5, Chapter 1 cha Constitution, chomwe chimakhazikitsa Constitution ngati gwero lalikulu la malamulo a dziko.'}]},\n",
       " {'messages': [{'role': 'system',\n",
       "    'content': 'you are a helpful assistant that answers question from user from chichewa constitution of malawi in the form Chapter:<constitution_chapter>,Section:<costitution_section>, <answer_from_chichewa_constititution>'},\n",
       "   {'role': 'user',\n",
       "    'content': 'nichifukwa chiyani akagwilira alumangidwa amuna wokha'},\n",
       "   {'role': 'assistant',\n",
       "    'content': '1. Amuna ni akazi onse amamangidwa malingana ni mlandu, kutengela ni Section 20, Chapter 4 cha Buku la Malamulo a Malawi, lomwe limaletsa kusankhana pa kugwiritsa ntchito malamulo, nipo onse ayenera kukhala ni mlandu ofanana.'}]},\n",
       " {'messages': [{'role': 'system',\n",
       "    'content': 'you are a helpful assistant that answers question from user from chichewa constitution of malawi in the form Chapter:<constitution_chapter>,Section:<costitution_section>, <answer_from_chichewa_constititution>'},\n",
       "   {'role': 'user',\n",
       "    'content': ' atsikana sakupitiliza maphunziro chifukwa chamabanja achangu '},\n",
       "   {'role': 'assistant',\n",
       "    'content': '8. Ana onse ayenera kumaliza sukulu, izi zili mu Section 13, Chapter 3 cha Constitution, komwe kumatchula kuti boma liyenera kupereka maphunziro kwa ana onse mpaka kukwaniritsa zofunikira zawo.'}]},\n",
       " {'messages': [{'role': 'system',\n",
       "    'content': 'you are a helpful assistant that answers question from user from chichewa constitution of malawi in the form Chapter:<constitution_chapter>,Section:<costitution_section>, <answer_from_chichewa_constititution>'},\n",
       "   {'role': 'user',\n",
       "    'content': 'mtsogoleri wa dziko ali ni udindo wanji kwa mzika  '},\n",
       "   {'role': 'assistant',\n",
       "    'content': '53. Ali ni udindo woteteza ni kutsogolera dziko, kutengela ni Section 88, Chapter 8 cha Constitution, lomwe limapereka kuti mtsogoleri wa dziko ali ni udindo wokhazikitsa malamulo nikutsogolera chitukuko cha dziko.'}]},\n",
       " {'messages': [{'role': 'system',\n",
       "    'content': 'you are a helpful assistant that answers question from user from chichewa constitution of malawi in the form Chapter:<constitution_chapter>,Section:<costitution_section>, <answer_from_chichewa_constititution>'},\n",
       "   {'role': 'user',\n",
       "    'content': 'a city akutolela ndalama mmakomo tso ife chitukuko sitikuchiona, malamulo ato bwanji '},\n",
       "   {'role': 'assistant',\n",
       "    'content': '15. Ndondomeko za city council zili ni ulamuliro wa nyumba za malamulo, izi zikukhudzana ni Section 146, Chapter 14, komwe malamulo a nyumba za boma amasamalira ndondomeko za chitukuko kumidzi ni m’matauni.'}]},\n",
       " {'messages': [{'role': 'system',\n",
       "    'content': 'you are a helpful assistant that answers question from user from chichewa constitution of malawi in the form Chapter:<constitution_chapter>,Section:<costitution_section>, <answer_from_chichewa_constititution>'},\n",
       "   {'role': 'user',\n",
       "    'content': 'ni zoyenera zanji zomwe zimapangitsa munthu kukhala mtsogoleri wa dziko'},\n",
       "   {'role': 'assistant',\n",
       "    'content': '51. Munthu ayenera kukhala ni zaka 35 ni kukhala mzika, kutengela ni Section 80, Chapter 8 cha Constitution, lomwe limapereka zofunikira kuti munthu akhale mtsogoleri wa dziko.'}]},\n",
       " {'messages': [{'role': 'system',\n",
       "    'content': 'you are a helpful assistant that answers question from user from chichewa constitution of malawi in the form Chapter:<constitution_chapter>,Section:<costitution_section>, <answer_from_chichewa_constititution>'},\n",
       "   {'role': 'user', 'content': 'ngati sakukwanisa ntchito amaudindo titani  '},\n",
       "   {'role': 'assistant',\n",
       "    'content': \"2. Anthu amachotsedwa ngati sakukwanitsa udindo wawo, Section 198, Chapter 10 cha Constitution, chimafotokoza malamulo oti anthu ogwira ntchito m’boma kapena m'mabungwe azichotsedwa ngati sakuchita bwino kapena achita zachinyengo.\"}]},\n",
       " {'messages': [{'role': 'system',\n",
       "    'content': 'you are a helpful assistant that answers question from user from chichewa constitution of malawi in the form Chapter:<constitution_chapter>,Section:<costitution_section>, <answer_from_chichewa_constititution>'},\n",
       "   {'role': 'user',\n",
       "    'content': 'kodi tingakadandaule kuti ngati a mp athu sakupanga zomwe adalonjeza '},\n",
       "   {'role': 'assistant',\n",
       "    'content': '19. Mungadandaule ku Nyumba ya Malamulo kapena mabungwe ena a boma, izi zili mu Section 8, Chapter 6 cha Constitution, limene limapereka njira zomveka za kukonzekera ndondomeko ni kupereka madandaulo.'}]},\n",
       " {'messages': [{'role': 'system',\n",
       "    'content': 'you are a helpful assistant that answers question from user from chichewa constitution of malawi in the form Chapter:<constitution_chapter>,Section:<costitution_section>, <answer_from_chichewa_constititution>'},\n",
       "   {'role': 'user',\n",
       "    'content': 'kodi ovlaza mzake pauchifwamba, naye ali ni ufulu wokhala ni moyo  '},\n",
       "   {'role': 'assistant',\n",
       "    'content': '17. Ali ni ufulu wokhala ni moyo ngakhale atakhala ni mulandu, malinga ni Section 16, Chapter 4 cha Constitution, lomwe limapereka ufulu wa moyo kwa aliyense osalola kugwidwa popanda chilungamo.'}]},\n",
       " {'messages': [{'role': 'system',\n",
       "    'content': 'you are a helpful assistant that answers question from user from chichewa constitution of malawi in the form Chapter:<constitution_chapter>,Section:<costitution_section>, <answer_from_chichewa_constititution>'},\n",
       "   {'role': 'user', 'content': 'munthu womangidwa ali ni ufulu wanji '},\n",
       "   {'role': 'assistant',\n",
       "    'content': '44. Ali ni ufulu wa chitetezo ni chilungamo, malinga ni Section 41, Chapter 4 cha Constitution, lomwe limapereka ufulu wopeza chilungamo popanda tsankho kapena ziletso.'}]},\n",
       " {'messages': [{'role': 'system',\n",
       "    'content': 'you are a helpful assistant that answers question from user from chichewa constitution of malawi in the form Chapter:<constitution_chapter>,Section:<costitution_section>, <answer_from_chichewa_constititution>'},\n",
       "   {'role': 'user',\n",
       "    'content': 'njira yolembetsa umzika mziko lino ni yotani  '},\n",
       "   {'role': 'assistant',\n",
       "    'content': '46. Munthu ayenera kutsatira ndondomeko za boma, izi zili mu Section 47, Chapter 4 cha Constitution, komwe malamulo amakonzera ndondomeko za kugwira ntchito ya umzika komanso kukhala mzika za dziko'}]}]"
      ]
     },
     "execution_count": 101,
     "metadata": {},
     "output_type": "execute_result"
    }
   ],
   "source": [
    "random.shuffle(all_conversations)\n",
    "all_conversations"
   ]
  },
  {
   "cell_type": "code",
   "execution_count": 102,
   "id": "3dfbc333-14fb-49e4-80a2-645d12bb70d6",
   "metadata": {},
   "outputs": [],
   "source": [
    "train_conversations=all_conversations[:55]\n",
    "test_conversations=all_conversations[55:]"
   ]
  },
  {
   "cell_type": "code",
   "execution_count": null,
   "id": "99f7733b-2d1c-451c-b0fa-3f46097d6c7c",
   "metadata": {},
   "outputs": [],
   "source": []
  },
  {
   "cell_type": "code",
   "execution_count": 103,
   "id": "b1436086-757b-4a04-8c43-54a502e40d1b",
   "metadata": {},
   "outputs": [],
   "source": [
    "with open('train_data.jsonl','w') as f:\n",
    "    for conversation in train_conversations:\n",
    "        json.dump(conversation,f)\n",
    "        f.write('\\n')"
   ]
  },
  {
   "cell_type": "code",
   "execution_count": 104,
   "id": "57eda27d-8f51-4fc7-8671-922b93e78b78",
   "metadata": {},
   "outputs": [],
   "source": [
    "with open('test_data.jsonl','w') as f:\n",
    "    for conversation in test_conversations:\n",
    "        json.dump(conversation,f)\n",
    "        f.write('\\n')"
   ]
  },
  {
   "cell_type": "code",
   "execution_count": 17,
   "id": "12128736-9382-4277-a01d-e63a93147971",
   "metadata": {},
   "outputs": [],
   "source": [
    "import openai"
   ]
  },
  {
   "cell_type": "code",
   "execution_count": null,
   "id": "b935ace1-b732-4889-962c-99bde2036ae9",
   "metadata": {},
   "outputs": [],
   "source": [
    "api_key=os.getenv('OPENAI_API_KEY')"
   ]
  },
  {
   "cell_type": "code",
   "execution_count": null,
   "id": "2af8721f-8ab3-4368-bc24-db2af2fd61a1",
   "metadata": {},
   "outputs": [],
   "source": [
    "client=openai.OpenAI(api_key=api_key)   "
   ]
  },
  {
   "cell_type": "code",
   "execution_count": 20,
   "id": "bbfc4590-917d-4571-860e-20f82cb8efc9",
   "metadata": {},
   "outputs": [],
   "source": [
    "with open('responses.jsonl','rb') as f:\n",
    "    response=client.files.create(file=f,purpose='fine-tune')"
   ]
  },
  {
   "cell_type": "code",
   "execution_count": 98,
   "id": "b6284837-b67b-4986-821c-82e9fd90f7da",
   "metadata": {
    "scrolled": true
   },
   "outputs": [
    {
     "data": {
      "text/plain": [
       "FileObject(id='file-afukGja8kySOiwiRczvbmdxf', bytes=12259, created_at=1727143456, filename='responses.jsonl', object='file', purpose='fine-tune', status='processed', status_details=None)"
      ]
     },
     "execution_count": 98,
     "metadata": {},
     "output_type": "execute_result"
    }
   ],
   "source": [
    "response"
   ]
  },
  {
   "cell_type": "code",
   "execution_count": 100,
   "id": "ad769cf0-5321-4622-ae8e-2c17c2470a40",
   "metadata": {},
   "outputs": [],
   "source": [
    "file_id='file-afukGja8kySOiwiRczvbmdxf'"
   ]
  },
  {
   "cell_type": "code",
   "execution_count": null,
   "id": "8591ad8e-ec65-4943-b7a5-c9746dd52994",
   "metadata": {},
   "outputs": [],
   "source": []
  },
  {
   "cell_type": "code",
   "execution_count": 102,
   "id": "ca76c689-6454-4392-b39a-02fc3d0091eb",
   "metadata": {},
   "outputs": [],
   "source": [
    "response=client.fine_tuning.jobs.create(\n",
    "    training_file=file_id,\n",
    "    model='gpt-4o-mini-2024-07-18'\n",
    ")"
   ]
  },
  {
   "cell_type": "code",
   "execution_count": 103,
   "id": "0fafbfcb-c549-42f1-b8c8-6867f60e2e8d",
   "metadata": {},
   "outputs": [
    {
     "data": {
      "text/plain": [
       "FineTuningJob(id='ftjob-jKdlFSJI18Gp4WXTWk5euwSF', created_at=1727143715, error=Error(code=None, message=None, param=None), fine_tuned_model=None, finished_at=None, hyperparameters=Hyperparameters(n_epochs='auto', batch_size='auto', learning_rate_multiplier='auto'), model='gpt-4o-mini-2024-07-18', object='fine_tuning.job', organization_id='org-qY05qu67rxmfKaW0sKWJHyyR', result_files=[], seed=1048805297, status='validating_files', trained_tokens=None, training_file='file-afukGja8kySOiwiRczvbmdxf', validation_file=None, estimated_finish=None, integrations=[], user_provided_suffix=None)"
      ]
     },
     "execution_count": 103,
     "metadata": {},
     "output_type": "execute_result"
    }
   ],
   "source": [
    "response"
   ]
  },
  {
   "cell_type": "code",
   "execution_count": 104,
   "id": "e67fac58-3534-4a1f-9205-b17e4413e631",
   "metadata": {},
   "outputs": [
    {
     "data": {
      "text/plain": [
       "FineTuningJob(id='ftjob-jKdlFSJI18Gp4WXTWk5euwSF', created_at=1727143715, error=Error(code=None, message=None, param=None), fine_tuned_model=None, finished_at=None, hyperparameters=Hyperparameters(n_epochs='auto', batch_size='auto', learning_rate_multiplier='auto'), model='gpt-4o-mini-2024-07-18', object='fine_tuning.job', organization_id='org-qY05qu67rxmfKaW0sKWJHyyR', result_files=[], seed=1048805297, status='validating_files', trained_tokens=None, training_file='file-afukGja8kySOiwiRczvbmdxf', validation_file=None, estimated_finish=None, integrations=[], user_provided_suffix=None)"
      ]
     },
     "execution_count": 104,
     "metadata": {},
     "output_type": "execute_result"
    }
   ],
   "source": [
    "response"
   ]
  },
  {
   "cell_type": "code",
   "execution_count": 109,
   "id": "0cf2c0ec-935d-455f-bddc-0ad77cf3bea9",
   "metadata": {},
   "outputs": [
    {
     "data": {
      "text/plain": [
       "FineTuningJob(id='ftjob-jKdlFSJI18Gp4WXTWk5euwSF', created_at=1727143715, error=Error(code=None, message=None, param=None), fine_tuned_model=None, finished_at=None, hyperparameters=Hyperparameters(n_epochs='auto', batch_size='auto', learning_rate_multiplier='auto'), model='gpt-4o-mini-2024-07-18', object='fine_tuning.job', organization_id='org-qY05qu67rxmfKaW0sKWJHyyR', result_files=[], seed=1048805297, status='validating_files', trained_tokens=None, training_file='file-afukGja8kySOiwiRczvbmdxf', validation_file=None, estimated_finish=None, integrations=[], user_provided_suffix=None)"
      ]
     },
     "execution_count": 109,
     "metadata": {},
     "output_type": "execute_result"
    }
   ],
   "source": [
    "response"
   ]
  },
  {
   "cell_type": "code",
   "execution_count": 111,
   "id": "b89e134a-07c3-4748-a59f-059b639c80db",
   "metadata": {},
   "outputs": [
    {
     "data": {
      "text/plain": [
       "FineTuningJob(id='ftjob-jKdlFSJI18Gp4WXTWk5euwSF', created_at=1727143715, error=Error(code=None, message=None, param=None), fine_tuned_model='ft:gpt-4o-mini-2024-07-18:personal::AApLyjFc', finished_at=1727144044, hyperparameters=Hyperparameters(n_epochs=5, batch_size=1, learning_rate_multiplier=1.8), model='gpt-4o-mini-2024-07-18', object='fine_tuning.job', organization_id='org-qY05qu67rxmfKaW0sKWJHyyR', result_files=['file-GvlEEGnNbvDN5d87zYIKn0lS'], seed=1048805297, status='succeeded', trained_tokens=14360, training_file='file-afukGja8kySOiwiRczvbmdxf', validation_file=None, estimated_finish=None, integrations=[], user_provided_suffix=None)"
      ]
     },
     "execution_count": 111,
     "metadata": {},
     "output_type": "execute_result"
    }
   ],
   "source": [
    "client.fine_tuning.jobs.retrieve('ftjob-jKdlFSJI18Gp4WXTWk5euwSF')"
   ]
  },
  {
   "cell_type": "code",
   "execution_count": null,
   "id": "4acd25ae-81e4-49bc-8621-cea196ec618f",
   "metadata": {},
   "outputs": [],
   "source": []
  },
  {
   "cell_type": "code",
   "execution_count": 10,
   "id": "48eaaf92-0a0a-48cc-8713-5a456188143f",
   "metadata": {},
   "outputs": [],
   "source": [
    "job_id='ftjob-17HsgF0WdFuEi7Lv2iNSlzdE'"
   ]
  },
  {
   "cell_type": "code",
   "execution_count": null,
   "id": "71a0d5fb-2fda-4712-853e-1acb14abcc0c",
   "metadata": {},
   "outputs": [],
   "source": []
  },
  {
   "cell_type": "code",
   "execution_count": null,
   "id": "d046c71a-251f-457d-9536-f9657d4cad00",
   "metadata": {},
   "outputs": [],
   "source": []
  },
  {
   "cell_type": "code",
   "execution_count": null,
   "id": "f0b0e8f3-72fe-4530-abb9-0a5a0b725ea4",
   "metadata": {},
   "outputs": [
    {
     "name": "stdout",
     "output_type": "stream",
     "text": [
      "{'object': 'list', 'data': [{'object': 'fine_tuning.job.checkpoint', 'id': 'ftckpt_CsGONnBgrIsbHbGoXHNKwKKn', 'created_at': 1727182504, 'fine_tuned_model_checkpoint': 'ft:gpt-4o-2024-08-06:personal:gpt-4o:AAzMg7Zv', 'fine_tuning_job_id': 'ftjob-17HsgF0WdFuEi7Lv2iNSlzdE', 'metrics': {'step': 240, 'train_loss': 0.7171538472175598, 'train_mean_token_accuracy': 0.8031495809555054, 'valid_loss': 1.126562315842201, 'valid_mean_token_accuracy': 0.7327586206896551}, 'step_number': 240}, {'object': 'fine_tuning.job.checkpoint', 'id': 'ftckpt_QseSnT0OQpw8zx8J0DVcwdDq', 'created_at': 1727182363, 'fine_tuned_model_checkpoint': 'ft:gpt-4o-2024-08-06:personal:gpt-4o:AAzMgn0v:ckpt-step-160', 'fine_tuning_job_id': 'ftjob-17HsgF0WdFuEi7Lv2iNSlzdE', 'metrics': {'step': 160, 'train_loss': 0.9970819354057312, 'train_mean_token_accuracy': 0.7268041372299194, 'valid_loss': 0.9091838062673375, 'valid_mean_token_accuracy': 0.7536231884057971}, 'step_number': 160}, {'object': 'fine_tuning.job.checkpoint', 'id': 'ftckpt_uDZDNDzUJEXwElUs8COZvSxy', 'created_at': 1727182202, 'fine_tuned_model_checkpoint': 'ft:gpt-4o-2024-08-06:personal:gpt-4o:AAzMfmpe:ckpt-step-80', 'fine_tuning_job_id': 'ftjob-17HsgF0WdFuEi7Lv2iNSlzdE', 'metrics': {'step': 80, 'train_loss': 1.382044792175293, 'train_mean_token_accuracy': 0.708737850189209, 'valid_loss': 1.1738689109070661, 'valid_mean_token_accuracy': 0.6894977168949772}, 'step_number': 80}], 'has_more': False, 'first_id': 'ftckpt_CsGONnBgrIsbHbGoXHNKwKKn', 'last_id': 'ftckpt_uDZDNDzUJEXwElUs8COZvSxy'}\n"
     ]
    }
   ],
   "source": [
    "import requests\n",
    "results={}\n",
    "# Your OpenAI API key\n",
    "\n",
    "# The URL for the OpenAI fine-tuning job checkpoints\n",
    "url = f\"https://api.openai.com/v1/fine_tuning/jobs/{job_id}/checkpoints\"\n",
    "\n",
    "# Set up headers for the request\n",
    "headers = {\n",
    "    \"Authorization\": f\"Bearer {api_key}\",\n",
    "    \"Content-Type\": \"application/json\",\n",
    "}\n",
    "\n",
    "# Send a GET request\n",
    "response = requests.get(url, headers=headers)\n",
    "\n",
    "# Check the status code and print the response\n",
    "if response.status_code == 200:\n",
    "    # Success - print the JSON response\n",
    "    results=response.json()\n",
    "    print(response.json())\n",
    "else:\n",
    "    # Handle errors\n",
    "    print(f\"Error: {response.status_code}\")\n",
    "    print(response.text)\n"
   ]
  },
  {
   "cell_type": "code",
   "execution_count": 8,
   "id": "cbca893c-5423-45ca-9f10-3e0b9b5d197e",
   "metadata": {},
   "outputs": [
    {
     "data": {
      "text/plain": [
       "{'object': 'fine_tuning.job.checkpoint',\n",
       " 'id': 'ftckpt_aIPEHH4Cbtnq2KjUlbNwxRSL',\n",
       " 'created_at': 1727144023,\n",
       " 'fine_tuned_model_checkpoint': 'ft:gpt-4o-mini-2024-07-18:personal::AApLyjFc',\n",
       " 'fine_tuning_job_id': 'ftjob-jKdlFSJI18Gp4WXTWk5euwSF',\n",
       " 'metrics': {'step': 100,\n",
       "  'train_loss': 0.2536613345146179,\n",
       "  'train_mean_token_accuracy': 0.8799999952316284},\n",
       " 'step_number': 100}"
      ]
     },
     "execution_count": 8,
     "metadata": {},
     "output_type": "execute_result"
    }
   ],
   "source": [
    "results['data'][0]"
   ]
  },
  {
   "cell_type": "code",
   "execution_count": 9,
   "id": "02a6d270-4c84-4cd8-b95f-6987b0b0b642",
   "metadata": {},
   "outputs": [
    {
     "data": {
      "text/plain": [
       "{'object': 'fine_tuning.job.checkpoint',\n",
       " 'id': 'ftckpt_2gURK7VhTzrHaUfDKABC4ddS',\n",
       " 'created_at': 1727143990,\n",
       " 'fine_tuned_model_checkpoint': 'ft:gpt-4o-mini-2024-07-18:personal::AApLy3Wk:ckpt-step-80',\n",
       " 'fine_tuning_job_id': 'ftjob-jKdlFSJI18Gp4WXTWk5euwSF',\n",
       " 'metrics': {'step': 80,\n",
       "  'train_loss': 0.11936592310667038,\n",
       "  'train_mean_token_accuracy': 0.9864864945411682},\n",
       " 'step_number': 80}"
      ]
     },
     "execution_count": 9,
     "metadata": {},
     "output_type": "execute_result"
    }
   ],
   "source": [
    "results['data'][1]"
   ]
  },
  {
   "cell_type": "code",
   "execution_count": 233,
   "id": "e7a66f41-4d00-4466-94e7-6f7c90945ffe",
   "metadata": {},
   "outputs": [
    {
     "data": {
      "text/plain": [
       "{'object': 'fine_tuning.job.checkpoint',\n",
       " 'id': 'ftckpt_0Cy7EicSt0A60uC0Pql9vAZL',\n",
       " 'created_at': 1727143955,\n",
       " 'fine_tuned_model_checkpoint': 'ft:gpt-4o-mini-2024-07-18:personal::AApLxsah:ckpt-step-60',\n",
       " 'fine_tuning_job_id': 'ftjob-jKdlFSJI18Gp4WXTWk5euwSF',\n",
       " 'metrics': {'step': 60,\n",
       "  'train_loss': 0.4952270984649658,\n",
       "  'train_mean_token_accuracy': 0.8405796885490417},\n",
       " 'step_number': 60}"
      ]
     },
     "execution_count": 233,
     "metadata": {},
     "output_type": "execute_result"
    }
   ],
   "source": [
    "results['data'][2]"
   ]
  },
  {
   "cell_type": "code",
   "execution_count": null,
   "id": "839c7f7d-b4d6-4b6a-be80-a7bd58c72dbc",
   "metadata": {},
   "outputs": [],
   "source": []
  },
  {
   "cell_type": "code",
   "execution_count": null,
   "id": "20ae1b31-358b-4706-9090-095b51a05629",
   "metadata": {},
   "outputs": [],
   "source": [
    "MODEL='ft:gpt-4o-mini-2024-07-18:personal::AC58hskg'"
   ]
  },
  {
   "cell_type": "code",
   "execution_count": 26,
   "id": "63bdea9d-18d5-4155-a741-076dfa3f0c8e",
   "metadata": {},
   "outputs": [],
   "source": [
    "openai.api_key=openai_key\n",
    "def query_model(query):\n",
    "    try:\n",
    "        MODEL = \"ft:gpt-4o-mini-2024-07-18:personal::AC58hskg\"\n",
    "        response = openai.chat.completions.create(\n",
    "            model=MODEL,\n",
    "            \n",
    "            messages=[\n",
    "                {\"role\": \"system\", \"content\":system_context},\n",
    "                {\"role\": \"user\", \"content\": query },\n",
    "            ],\n",
    "            temperature=0,\n",
    "        )\n",
    "        \n",
    "        generated_text = response.choices[0].message.content\n",
    "        return generated_text\n",
    "    except Exception as e:\n",
    "        return f\"Error during API call: {str(e)}\""
   ]
  },
  {
   "cell_type": "code",
   "execution_count": 27,
   "id": "aa910118-a278-43d6-8569-c8d0cc55754e",
   "metadata": {},
   "outputs": [],
   "source": [
    "query='ufulu wa ana'\n",
    "result=query_model(query)"
   ]
  },
  {
   "cell_type": "code",
   "execution_count": 28,
   "id": "11cbb13c-b3d1-4828-8835-31d1c63e7188",
   "metadata": {},
   "outputs": [
    {
     "data": {
      "text/plain": [
       "'Chapter: 4, Section: 23, Ana ali ndi ufulu wa chitetezo ndi maphunziro, kutengela ndi Section 23, Chapter 4 cha Constitution, lomwe limatsimikizira kuti ana ayenera kutetezedwa ndikupatsidwa maphunziro oyenera.'"
      ]
     },
     "execution_count": 28,
     "metadata": {},
     "output_type": "execute_result"
    }
   ],
   "source": [
    "result"
   ]
  },
  {
   "cell_type": "code",
   "execution_count": 246,
   "id": "1cbbbeb5-e5ed-49e2-aa40-8e85ab7efda4",
   "metadata": {},
   "outputs": [],
   "source": [
    "query='nanga akamuphwanyira ufulu ungatani'\n",
    "result=query_model(query)"
   ]
  },
  {
   "cell_type": "code",
   "execution_count": 247,
   "id": "8601b025-d46b-427c-b6e3-a347c6675091",
   "metadata": {},
   "outputs": [
    {
     "data": {
      "text/plain": [
       "'Chapter: 4, Section: 44, Ufulu wa munthu aliyense umaletsedwa kuphwanyidwa, malinga ndi Section 44, Chapter 4 cha Constitution, lomwe limatsimikizira kuti ufulu uliwonse womwe constitution imapereka uyenera kutetezedwa mogwirizana ndi malamulo.'"
      ]
     },
     "execution_count": 247,
     "metadata": {},
     "output_type": "execute_result"
    }
   ],
   "source": [
    "result"
   ]
  },
  {
   "cell_type": "code",
   "execution_count": null,
   "id": "97951dd6-eceb-4cf6-8095-e9b8ee49e4a4",
   "metadata": {},
   "outputs": [],
   "source": [
    "'step': 240, 'train_loss': 0.7171538472175598, 'train_mean_token_accuracy': 0.8031495809555054, 'valid_loss': 1.126562315842201, 'valid_mean_token_accuracy': 0.7327586206896551"
   ]
  },
  {
   "cell_type": "code",
   "execution_count": null,
   "id": "c05ad44a-c134-429d-82b3-a0450c3f9f29",
   "metadata": {},
   "outputs": [],
   "source": []
  },
  {
   "cell_type": "code",
   "execution_count": null,
   "id": "cf113eeb-cb2f-4ba0-8502-e08504490da1",
   "metadata": {},
   "outputs": [],
   "source": [
    "'train_loss': 0.9970819354057312, 'train_mean_token_accuracy': 0.7268041372299194, 'valid_loss': 0.9091838062673375, 'valid_mean_token_accuracy': 0.7536231884057971"
   ]
  },
  {
   "cell_type": "code",
   "execution_count": null,
   "id": "c7c02f75-7a72-4752-ada0-daa1bddf05ef",
   "metadata": {},
   "outputs": [],
   "source": []
  },
  {
   "cell_type": "code",
   "execution_count": null,
   "id": "4eedc322-9572-45bb-8322-38a6d7bd9618",
   "metadata": {},
   "outputs": [],
   "source": []
  },
  {
   "cell_type": "code",
   "execution_count": null,
   "id": "d9612464-8d0c-431a-a392-d38d79f449cc",
   "metadata": {},
   "outputs": [],
   "source": []
  },
  {
   "cell_type": "code",
   "execution_count": null,
   "id": "a910c39a-3549-4eca-9d56-23666abe13a6",
   "metadata": {},
   "outputs": [],
   "source": []
  }
 ],
 "metadata": {
  "kernelspec": {
   "display_name": "Python 3 (ipykernel)",
   "language": "python",
   "name": "python3"
  },
  "language_info": {
   "codemirror_mode": {
    "name": "ipython",
    "version": 3
   },
   "file_extension": ".py",
   "mimetype": "text/x-python",
   "name": "python",
   "nbconvert_exporter": "python",
   "pygments_lexer": "ipython3",
   "version": "3.12.4"
  }
 },
 "nbformat": 4,
 "nbformat_minor": 5
}
